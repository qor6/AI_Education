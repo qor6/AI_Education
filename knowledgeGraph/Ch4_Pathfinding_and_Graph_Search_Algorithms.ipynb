{
 "nbformat": 4,
 "nbformat_minor": 0,
 "metadata": {
  "colab": {
   "name": "Ch4. Pathfinding and Graph Search Algorithms",
   "provenance": [],
   "collapsed_sections": [],
   "toc_visible": true
  },
  "kernelspec": {
   "name": "python3",
   "display_name": "Python 3"
  },
  "language_info": {
   "name": "python"
  }
 },
 "cells": [
  {
   "cell_type": "markdown",
   "metadata": {
    "id": "k2viK2eQX79W"
   },
   "source": [
    "# Quick setup for pySpark and GraphFrame"
   ]
  },
  {
   "cell_type": "code",
   "metadata": {
    "id": "-SfmdR56RC7n"
   },
   "source": [
    "!apt-get install openjdk-8-jdk-headless -qq > /dev/null\n",
    "!wget -q https://archive.apache.org/dist/spark/spark-3.0.3/spark-3.0.3-bin-hadoop2.7.tgz"
   ],
   "execution_count": null,
   "outputs": []
  },
  {
   "cell_type": "code",
   "metadata": {
    "id": "OgYvuRB2R4Mj"
   },
   "source": [
    "!tar xf /content/spark-3.0.3-bin-hadoop2.7.tgz"
   ],
   "execution_count": null,
   "outputs": []
  },
  {
   "cell_type": "code",
   "metadata": {
    "id": "W1V6mqVCZBC-"
   },
   "source": [
    "!wget -q https://repos.spark-packages.org/graphframes/graphframes/0.8.2-spark3.0-s_2.12/graphframes-0.8.2-spark3.0-s_2.12.jar"
   ],
   "execution_count": null,
   "outputs": []
  },
  {
   "cell_type": "code",
   "metadata": {
    "id": "NU_07R5dYoxH"
   },
   "source": [
    "## install graphframe library on Colab\n",
    "!mv /content/graphframes-0.8.2-spark3.0-s_2.12.jar /content/spark-3.0.3-bin-hadoop2.7/jars/graphframes-0.8.2-spark3.0-s_2.12.jar"
   ],
   "execution_count": null,
   "outputs": []
  },
  {
   "cell_type": "code",
   "metadata": {
    "colab": {
     "base_uri": "https://localhost:8080/"
    },
    "id": "8EhA3b4gRXfV",
    "outputId": "f926f975-8b52-4460-cee5-d579f3d416d4"
   },
   "source": [
    "!pip -q install findspark pyspark graphframes"
   ],
   "execution_count": null,
   "outputs": [
    {
     "output_type": "stream",
     "name": "stdout",
     "text": [
      "\u001B[K     |████████████████████████████████| 281.3 MB 37 kB/s \n",
      "\u001B[K     |████████████████████████████████| 198 kB 64.2 MB/s \n",
      "\u001B[K     |████████████████████████████████| 154 kB 68.6 MB/s \n",
      "\u001B[?25h  Building wheel for pyspark (setup.py) ... \u001B[?25l\u001B[?25hdone\n"
     ]
    }
   ]
  },
  {
   "cell_type": "code",
   "metadata": {
    "id": "CEQUVw4fRKPo"
   },
   "source": [
    "import os\n",
    "os.environ[\"JAVA_HOME\"] = \"/usr/lib/jvm/java-8-openjdk-amd64\"\n",
    "os.environ[\"SPARK_HOME\"] = \"/content/spark-3.0.3-bin-hadoop2.7\""
   ],
   "execution_count": null,
   "outputs": []
  },
  {
   "cell_type": "code",
   "metadata": {
    "id": "sn6CGLzVRPG0"
   },
   "source": [
    "import findspark\n",
    "findspark.init()"
   ],
   "execution_count": null,
   "outputs": []
  },
  {
   "cell_type": "code",
   "metadata": {
    "id": "cFA3VB0MRRqX"
   },
   "source": [
    "from pyspark.sql import SparkSession\n",
    "\n",
    "spark = SparkSession.builder\\\n",
    "        .master(\"local\")\\\n",
    "        .appName(\"Colab\")\\\n",
    "        .config('spark.ui.port', '4050')\\\n",
    "        .getOrCreate()"
   ],
   "execution_count": null,
   "outputs": []
  },
  {
   "cell_type": "code",
   "metadata": {
    "colab": {
     "base_uri": "https://localhost:8080/",
     "height": 216
    },
    "id": "tkFMnXdKRT-E",
    "outputId": "a6779a65-b008-4904-ff6f-450be263114d"
   },
   "source": [
    "# confirm the spark installation\n",
    "spark"
   ],
   "execution_count": null,
   "outputs": [
    {
     "output_type": "execute_result",
     "data": {
      "text/html": [
       "\n",
       "            <div>\n",
       "                <p><b>SparkSession - in-memory</b></p>\n",
       "                \n",
       "        <div>\n",
       "            <p><b>SparkContext</b></p>\n",
       "\n",
       "            <p><a href=\"http://bd8f8167ae63:4050\">Spark UI</a></p>\n",
       "\n",
       "            <dl>\n",
       "              <dt>Version</dt>\n",
       "                <dd><code>v3.0.3</code></dd>\n",
       "              <dt>Master</dt>\n",
       "                <dd><code>local</code></dd>\n",
       "              <dt>AppName</dt>\n",
       "                <dd><code>Colab</code></dd>\n",
       "            </dl>\n",
       "        </div>\n",
       "        \n",
       "            </div>\n",
       "        "
      ],
      "text/plain": [
       "<pyspark.sql.session.SparkSession at 0x7f4e0eb7af10>"
      ]
     },
     "metadata": {},
     "execution_count": 9
    }
   ]
  },
  {
   "cell_type": "code",
   "metadata": {
    "id": "OutzvpeOU2Mx"
   },
   "source": [
    "os.environ[\"HADOOP_HOME\"] = os.environ[\"SPARK_HOME\"]\n",
    "\n",
    "os.environ[\"PYSPARK_DRIVER_PYTHON\"] = \"jupyter\"\n",
    "os.environ[\"PYSPARK_DRIVER_PYTHON_OPTS\"] = \"notebook\"\n",
    "os.environ[\"PYSPARK_SUBMIT_ARGS\"] = \"--packages graphframes:graphframes:0.8.2-spark3.0-s_2.12 pyspark-shell\""
   ],
   "execution_count": null,
   "outputs": []
  },
  {
   "cell_type": "code",
   "metadata": {
    "id": "6hmPaTNdUhFH"
   },
   "source": [
    "from graphframes import *"
   ],
   "execution_count": null,
   "outputs": []
  },
  {
   "cell_type": "code",
   "metadata": {
    "id": "Wd0mNJT9WU4C"
   },
   "source": [
    "def init_spark(app_name=\"HelloWorldApp\", execution_mode=\"local[*]\"):\n",
    "  spark = SparkSession.builder.master(execution_mode).appName(app_name).getOrCreate()\n",
    "  sc = spark.sparkContext\n",
    "  return spark, sc"
   ],
   "execution_count": null,
   "outputs": []
  },
  {
   "cell_type": "markdown",
   "metadata": {
    "id": "D36XFlkOZgFO"
   },
   "source": [
    "## Example: GraphFrame"
   ]
  },
  {
   "cell_type": "code",
   "metadata": {
    "colab": {
     "base_uri": "https://localhost:8080/"
    },
    "id": "Sp5XXN6xWPOZ",
    "outputId": "d313d1cb-922c-4a08-b3fe-57e3a40241f3"
   },
   "source": [
    "from pyspark.sql import SparkSession\n",
    "from pyspark.sql import SQLContext\n",
    "\n",
    "_, sc = init_spark()\n",
    "sqlContext = SQLContext(sc)\n",
    "\n",
    "## the rest of this code (down below) comes from: https://graphframes.github.io/graphframes/docs/_site/quick-start.html#getting-started-with-apache-spark-and-spark-packages\n",
    "\n",
    "# Create a Vertex DataFrame with unique ID column \"id\"\n",
    "v = sqlContext.createDataFrame([\n",
    "  (\"a\", \"Alice\", 34),\n",
    "  (\"b\", \"Bob\", 36),\n",
    "  (\"c\", \"Charlie\", 30),\n",
    "], [\"id\", \"name\", \"age\"])\n",
    "\n",
    "# Create an Edge DataFrame with \"src\" and \"dst\" columns\n",
    "e = sqlContext.createDataFrame([\n",
    "  (\"a\", \"b\", \"friend\"),\n",
    "  (\"b\", \"c\", \"follow\"),\n",
    "  (\"c\", \"b\", \"follow\"),\n",
    "], [\"src\", \"dst\", \"relationship\"])\n",
    "\n",
    "# Create a GraphFrame\n",
    "from graphframes import *\n",
    "g = GraphFrame(v, e)\n",
    "\n",
    "# Query: Get in-degree of each vertex.\n",
    "g.inDegrees.show()\n",
    "\n",
    "# Query: Count the number of \"follow\" connections in the graph.\n",
    "g.edges.filter(\"relationship = 'follow'\").count()"
   ],
   "execution_count": null,
   "outputs": [
    {
     "output_type": "stream",
     "name": "stdout",
     "text": [
      "+---+--------+\n",
      "| id|inDegree|\n",
      "+---+--------+\n",
      "|  c|       1|\n",
      "|  b|       2|\n",
      "+---+--------+\n",
      "\n"
     ]
    },
    {
     "output_type": "execute_result",
     "data": {
      "text/plain": [
       "2"
      ]
     },
     "metadata": {},
     "execution_count": 13
    }
   ]
  },
  {
   "cell_type": "markdown",
   "metadata": {
    "id": "rsPby-3PZxX5"
   },
   "source": [
    "# Importing the Data into Apache Spark"
   ]
  },
  {
   "cell_type": "code",
   "metadata": {
    "colab": {
     "resources": {
      "http://localhost:8080/nbextensions/google.colab/files.js": {
       "data": "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",
       "ok": true,
       "headers": [
        [
         "content-type",
         "application/javascript"
        ]
       ],
       "status": 200,
       "status_text": ""
      }
     },
     "base_uri": "https://localhost:8080/",
     "height": 160
    },
    "id": "Ca6_kmUwZtQi",
    "outputId": "946591db-58ad-4af4-83f2-8d8c2452c667"
   },
   "source": [
    "!mkdir data\n",
    "!wget -q https://github.com/chunsejin/KGProjects_DAU/raw/master/data/transport-nodes.csv\n",
    "!wget -q https://github.com/chunsejin/KGProjects_DAU/raw/master/data/transport-relationships.csv\n",
    "!mv transport-relationships.csv data\n",
    "!mv transport-nodes.csv data"
   ],
   "execution_count": null,
   "outputs": [
    {
     "output_type": "display_data",
     "data": {
      "text/html": [
       "\n",
       "     <input type=\"file\" id=\"files-f83fd721-9632-4cf5-9649-2160ff080ff7\" name=\"files[]\" multiple disabled\n",
       "        style=\"border:none\" />\n",
       "     <output id=\"result-f83fd721-9632-4cf5-9649-2160ff080ff7\">\n",
       "      Upload widget is only available when the cell has been executed in the\n",
       "      current browser session. Please rerun this cell to enable.\n",
       "      </output>\n",
       "      <script src=\"/nbextensions/google.colab/files.js\"></script> "
      ],
      "text/plain": [
       "<IPython.core.display.HTML object>"
      ]
     },
     "metadata": {}
    },
    {
     "output_type": "stream",
     "name": "stdout",
     "text": [
      "Saving transport-nodes.csv to transport-nodes.csv\n",
      "Saving transport-relationships.csv to transport-relationships.csv\n"
     ]
    },
    {
     "output_type": "execute_result",
     "data": {
      "text/plain": [
       "{'transport-nodes.csv': b'id,latitude,longitude,population\\n\"Amsterdam\",52.379189,4.899431,821752\\n\"Utrecht\",52.092876,5.104480,334176\\n\"Den Haag\",52.078663,4.288788,514861\\n\"Immingham\",53.61239,-0.22219,9642\\n\"Doncaster\",53.52285,-1.13116,302400\\n\"Hoek van Holland\",51.9775,4.13333,9382\\n\"Felixstowe\",51.96375,1.3511,23689\\n\"Ipswich\",52.05917,1.15545,133384\\n\"Colchester\",51.88921,0.90421,104390\\n\"London\",51.509865,-0.118092,8787892\\n\"Rotterdam\",51.9225,4.47917,623652\\n\"Gouda\",52.01667,4.70833,70939\\n',\n",
       " 'transport-relationships.csv': b'src,dst,relationship,cost\\n\"Amsterdam\",\"Utrecht\",\"EROAD\",46\\n\"Amsterdam\",\"Den Haag\",\"EROAD\",59\\n\"Den Haag\",\"Rotterdam\",\"EROAD\",26\\n\"Amsterdam\",\"Immingham\",\"EROAD\",369\\n\"Immingham\",\"Doncaster\",\"EROAD\",74\\n\"Doncaster\",\"London\",\"EROAD\",277\\n\"Hoek van Holland\",\"Den Haag\",\"EROAD\",27\\n\"Felixstowe\",\"Hoek van Holland\",\"EROAD\",207\\n\"Ipswich\",\"Felixstowe\",\"EROAD\",22\\n\"Colchester\",\"Ipswich\",\"EROAD\",32\\n\"London\",\"Colchester\",\"EROAD\",106\\n\"Gouda\",\"Rotterdam\",\"EROAD\",25\\n\"Gouda\",\"Utrecht\",\"EROAD\",35\\n\"Den Haag\",\"Gouda\",\"EROAD\",32\\n\"Hoek van Holland\",\"Rotterdam\",\"EROAD\",33\\n'}"
      ]
     },
     "metadata": {},
     "execution_count": 14
    }
   ]
  },
  {
   "cell_type": "code",
   "metadata": {
    "id": "CaQzcNl1Z6mz"
   },
   "source": [
    "from pyspark.sql.types import *\n",
    "from graphframes import *"
   ],
   "execution_count": null,
   "outputs": []
  },
  {
   "cell_type": "code",
   "metadata": {
    "id": "amz9QL3vaPox"
   },
   "source": [
    "# // tag::load-graph-frame[]\n",
    "def create_transport_graph():\n",
    "    node_fields = [\n",
    "        StructField(\"id\", StringType(), True),\n",
    "        StructField(\"latitude\", FloatType(), True),\n",
    "        StructField(\"longitude\", FloatType(), True),\n",
    "        StructField(\"population\", IntegerType(), True)\n",
    "    ]\n",
    "    nodes = spark.read.csv(\"data/transport-nodes.csv\", header=True,\n",
    "                           schema=StructType(node_fields))\n",
    "\n",
    "    rels = spark.read.csv(\"data/transport-relationships.csv\", header=True)\n",
    "    reversed_rels = (rels.withColumn(\"newSrc\", rels.dst)\n",
    "                     .withColumn(\"newDst\", rels.src)\n",
    "                     .drop(\"dst\", \"src\")\n",
    "                     .withColumnRenamed(\"newSrc\", \"src\")\n",
    "                     .withColumnRenamed(\"newDst\", \"dst\")\n",
    "                     .select(\"src\", \"dst\", \"relationship\", \"cost\"))\n",
    "\n",
    "    relationships = rels.union(reversed_rels)\n",
    "\n",
    "    return GraphFrame(nodes, relationships)\n",
    "# // end::load-graph-frame[]\n"
   ],
   "execution_count": null,
   "outputs": []
  },
  {
   "cell_type": "code",
   "metadata": {
    "id": "2GYYamgzaUku"
   },
   "source": [
    "# 그래프를 생성해 봅시다 \n",
    "# 변수는 g로 설정하여 위의 함수를 로드해봅시다.\n",
    "g = create_transport_graph()"
   ],
   "execution_count": null,
   "outputs": []
  },
  {
   "cell_type": "markdown",
   "metadata": {
    "id": "EKjzbECybZZt"
   },
   "source": [
    "## GraphFrame Basics"
   ]
  },
  {
   "cell_type": "code",
   "metadata": {
    "colab": {
     "base_uri": "https://localhost:8080/"
    },
    "id": "pfpvGc8TbbG7",
    "outputId": "df700237-69f6-401e-a126-a4247d196564"
   },
   "source": [
    "g.vertices.show()"
   ],
   "execution_count": null,
   "outputs": [
    {
     "output_type": "stream",
     "name": "stdout",
     "text": [
      "+----------------+---------+---------+----------+\n",
      "|              id| latitude|longitude|population|\n",
      "+----------------+---------+---------+----------+\n",
      "|       Amsterdam| 52.37919| 4.899431|    821752|\n",
      "|         Utrecht|52.092876|  5.10448|    334176|\n",
      "|        Den Haag|52.078663| 4.288788|    514861|\n",
      "|       Immingham| 53.61239| -0.22219|      9642|\n",
      "|       Doncaster| 53.52285| -1.13116|    302400|\n",
      "|Hoek van Holland|  51.9775|  4.13333|      9382|\n",
      "|      Felixstowe| 51.96375|   1.3511|     23689|\n",
      "|         Ipswich| 52.05917|  1.15545|    133384|\n",
      "|      Colchester| 51.88921|  0.90421|    104390|\n",
      "|          London|51.509865|-0.118092|   8787892|\n",
      "|       Rotterdam|  51.9225|  4.47917|    623652|\n",
      "|           Gouda| 52.01667|  4.70833|     70939|\n",
      "+----------------+---------+---------+----------+\n",
      "\n"
     ]
    },
    {
     "output_type": "execute_result",
     "data": {
      "text/plain": [
       "12"
      ]
     },
     "metadata": {},
     "execution_count": 39
    }
   ]
  },
  {
   "cell_type": "code",
   "metadata": {
    "id": "WrVNiE6mp_OD"
   },
   "source": [
    "# 노드의 갯수\n",
    "g.vertices.count()"
   ],
   "execution_count": null,
   "outputs": []
  },
  {
   "cell_type": "code",
   "metadata": {
    "id": "kup7sANVbcnI"
   },
   "source": [
    "# 그래프의 edges들을 출력해 봅시다. 엣지의 갯수도 출력해 봅시다"
   ],
   "execution_count": null,
   "outputs": []
  },
  {
   "cell_type": "markdown",
   "metadata": {
    "id": "Ln_3f1oCqBYW"
   },
   "source": [
    "## 그래프의 밀집도(Density)\n",
    "$D={2 R}/{( N(N-1) )}$"
   ]
  },
  {
   "cell_type": "code",
   "execution_count": null,
   "outputs": [],
   "source": [
    "N = g.vertices.count()\n",
    "R = g.edges.count()\n",
    "D = 2R / N * (N-1)\n",
    "D"
   ],
   "metadata": {
    "collapsed": false,
    "pycharm": {
     "name": "#%%\n"
    }
   }
  },
  {
   "cell_type": "markdown",
   "metadata": {
    "id": "hheVSxWqoQqE"
   },
   "source": [
    "## InDegree/OutDegree"
   ]
  },
  {
   "cell_type": "code",
   "metadata": {
    "colab": {
     "base_uri": "https://localhost:8080/"
    },
    "id": "6sAjLdCrnR-A",
    "outputId": "636064ab-e4c7-4db6-a371-f56fef84b3b8"
   },
   "source": [
    "vertexInDegrees = g.inDegrees\n",
    "vertexInDegrees.show()"
   ],
   "execution_count": null,
   "outputs": [
    {
     "output_type": "stream",
     "name": "stdout",
     "text": [
      "+----------------+--------+\n",
      "|              id|inDegree|\n",
      "+----------------+--------+\n",
      "|       Doncaster|       2|\n",
      "|       Rotterdam|       3|\n",
      "|          London|       2|\n",
      "|        Den Haag|       4|\n",
      "|       Immingham|       2|\n",
      "|       Amsterdam|       3|\n",
      "|      Colchester|       2|\n",
      "|         Utrecht|       2|\n",
      "|           Gouda|       3|\n",
      "|         Ipswich|       2|\n",
      "|Hoek van Holland|       3|\n",
      "|      Felixstowe|       2|\n",
      "+----------------+--------+\n",
      "\n"
     ]
    }
   ]
  },
  {
   "cell_type": "code",
   "metadata": {
    "id": "cIRYOeMVngVU"
   },
   "source": [
    "# 그래프로부터 각 vertex의 out degree를 구해봅시다"
   ],
   "execution_count": null,
   "outputs": []
  },
  {
   "cell_type": "code",
   "metadata": {
    "colab": {
     "base_uri": "https://localhost:8080/"
    },
    "id": "OTcx9cO7bgRR",
    "outputId": "91cdcbeb-3693-4a49-d9c4-9c0eda51161b"
   },
   "source": [
    "# Find the youngest user's age in the graph.\n",
    "# This queries the vertex DataFrame.\n",
    "g.vertices.groupBy().min(\"population\").show()"
   ],
   "execution_count": null,
   "outputs": [
    {
     "output_type": "stream",
     "name": "stdout",
     "text": [
      "+---------------+\n",
      "|min(population)|\n",
      "+---------------+\n",
      "|           9382|\n",
      "+---------------+\n",
      "\n"
     ]
    }
   ]
  },
  {
   "cell_type": "markdown",
   "metadata": {
    "id": "NCIVlL9voN-e"
   },
   "source": [
    "## Filter"
   ]
  },
  {
   "cell_type": "code",
   "metadata": {
    "colab": {
     "base_uri": "https://localhost:8080/"
    },
    "id": "x86y3K7Sb0iK",
    "outputId": "ccc4ab9c-5c51-420a-9b5a-531b8a58625f"
   },
   "source": [
    "# Count the number of \"EROAD\" in the graph.\n",
    "# This queries the edge DataFrame.\n",
    "numERoads = g.edges.filter(\"relationship = 'EROAD'\").count()\n",
    "numERoads"
   ],
   "execution_count": null,
   "outputs": [
    {
     "output_type": "execute_result",
     "data": {
      "text/plain": [
       "30"
      ]
     },
     "metadata": {},
     "execution_count": 34
    }
   ]
  },
  {
   "cell_type": "markdown",
   "metadata": {
    "id": "N1Y7gMUoohRL"
   },
   "source": [
    "## Ploting with Folium\n"
   ]
  },
  {
   "cell_type": "code",
   "metadata": {
    "id": "ys4_dqE3okQD"
   },
   "source": [
    "import folium"
   ],
   "execution_count": null,
   "outputs": []
  },
  {
   "cell_type": "code",
   "metadata": {
    "colab": {
     "base_uri": "https://localhost:8080/"
    },
    "id": "zM7iKeYEwWVu",
    "outputId": "8a45392d-9f06-45ef-cb08-f172a619e710"
   },
   "source": [
    "coordinates = g.vertices.select('id','latitude','longitude').collect()\n",
    "coordinates"
   ],
   "execution_count": null,
   "outputs": [
    {
     "output_type": "execute_result",
     "data": {
      "text/plain": [
       "[Row(id='Amsterdam', latitude=52.379188537597656, longitude=4.899431228637695),\n",
       " Row(id='Utrecht', latitude=52.09287643432617, longitude=5.104479789733887),\n",
       " Row(id='Den Haag', latitude=52.07866287231445, longitude=4.288787841796875),\n",
       " Row(id='Immingham', latitude=53.612388610839844, longitude=-0.2221899926662445),\n",
       " Row(id='Doncaster', latitude=53.522850036621094, longitude=-1.131160020828247),\n",
       " Row(id='Hoek van Holland', latitude=51.977500915527344, longitude=4.13332986831665),\n",
       " Row(id='Felixstowe', latitude=51.963748931884766, longitude=1.351099967956543),\n",
       " Row(id='Ipswich', latitude=52.05916976928711, longitude=1.1554499864578247),\n",
       " Row(id='Colchester', latitude=51.88920974731445, longitude=0.9042099714279175),\n",
       " Row(id='London', latitude=51.509864807128906, longitude=-0.11809200048446655),\n",
       " Row(id='Rotterdam', latitude=51.92250061035156, longitude=4.479169845581055),\n",
       " Row(id='Gouda', latitude=52.01667022705078, longitude=4.708330154418945)]"
      ]
     },
     "metadata": {},
     "execution_count": 94
    }
   ]
  },
  {
   "cell_type": "code",
   "metadata": {
    "colab": {
     "base_uri": "https://localhost:8080/"
    },
    "id": "CsE6RHZSwaE6",
    "outputId": "e1d92f7a-644b-48b1-e314-5a527e66dd43"
   },
   "source": [
    "print(coordinates[0]['latitude'], coordinates[0]['longitude'])"
   ],
   "execution_count": null,
   "outputs": [
    {
     "output_type": "stream",
     "name": "stdout",
     "text": [
      "52.379188537597656 4.899431228637695\n"
     ]
    }
   ]
  },
  {
   "cell_type": "code",
   "metadata": {
    "id": "P7wMU4nzquoX"
   },
   "source": [
    "# 지도에 위치 출력\n",
    "map = folium.Map(location=[coordinates[0]['latitude'], coordinates[0]['longitude']], zoom_start=7, control_scale=True, width=600, height=400)"
   ],
   "execution_count": null,
   "outputs": []
  },
  {
   "cell_type": "code",
   "metadata": {
    "id": "x2UgtrWKvZaW"
   },
   "source": [
    "for coord in coordinates:\n",
    "  folium.Marker([coord['latitude'], coord['longitude']], popup=coord[\"id\"]).add_to(map)"
   ],
   "execution_count": null,
   "outputs": []
  },
  {
   "cell_type": "code",
   "metadata": {
    "colab": {
     "base_uri": "https://localhost:8080/",
     "height": 915
    },
    "id": "Ss7pYW8xoqXE",
    "outputId": "158847ed-6c38-445b-d060-976661c15631"
   },
   "source": [
    "map"
   ],
   "execution_count": null,
   "outputs": [
    {
     "output_type": "execute_result",
     "data": {
      "text/html": [
       "<div style=\"width:100%;\"><div style=\"position:relative;width:100%;height:0;padding-bottom:60%;\"><span style=\"color:#565656\">Make this Notebook Trusted to load map: File -> Trust Notebook</span><iframe src=\"about:blank\" style=\"position:absolute;width:100%;height:100%;left:0;top:0;border:none !important;\" data-html=%3C%21DOCTYPE%20html%3E%0A%3Chead%3E%20%20%20%20%0A%20%20%20%20%3Cmeta%20http-equiv%3D%22content-type%22%20content%3D%22text/html%3B%20charset%3DUTF-8%22%20/%3E%0A%20%20%20%20%3Cscript%3EL_PREFER_CANVAS%3Dfalse%3B%20L_NO_TOUCH%3Dfalse%3B%20L_DISABLE_3D%3Dfalse%3B%3C/script%3E%0A%20%20%20%20%3Cscript%20src%3D%22https%3A//cdn.jsdelivr.net/npm/leaflet%401.4.0/dist/leaflet.js%22%3E%3C/script%3E%0A%20%20%20%20%3Cscript%20src%3D%22https%3A//code.jquery.com/jquery-1.12.4.min.js%22%3E%3C/script%3E%0A%20%20%20%20%3Cscript%20src%3D%22https%3A//maxcdn.bootstrapcdn.com/bootstrap/3.2.0/js/bootstrap.min.js%22%3E%3C/script%3E%0A%20%20%20%20%3Cscript%20src%3D%22https%3A//cdnjs.cloudflare.com/ajax/libs/Leaflet.awesome-markers/2.0.2/leaflet.awesome-markers.js%22%3E%3C/script%3E%0A%20%20%20%20%3Clink%20rel%3D%22stylesheet%22%20href%3D%22https%3A//cdn.jsdelivr.net/npm/leaflet%401.4.0/dist/leaflet.css%22/%3E%0A%20%20%20%20%3Clink%20rel%3D%22stylesheet%22%20href%3D%22https%3A//maxcdn.bootstrapcdn.com/bootstrap/3.2.0/css/bootstrap.min.css%22/%3E%0A%20%20%20%20%3Clink%20rel%3D%22stylesheet%22%20href%3D%22https%3A//maxcdn.bootstrapcdn.com/bootstrap/3.2.0/css/bootstrap-theme.min.css%22/%3E%0A%20%20%20%20%3Clink%20rel%3D%22stylesheet%22%20href%3D%22https%3A//maxcdn.bootstrapcdn.com/font-awesome/4.6.3/css/font-awesome.min.css%22/%3E%0A%20%20%20%20%3Clink%20rel%3D%22stylesheet%22%20href%3D%22https%3A//cdnjs.cloudflare.com/ajax/libs/Leaflet.awesome-markers/2.0.2/leaflet.awesome-markers.css%22/%3E%0A%20%20%20%20%3Clink%20rel%3D%22stylesheet%22%20href%3D%22https%3A//rawcdn.githack.com/python-visualization/folium/master/folium/templates/leaflet.awesome.rotate.css%22/%3E%0A%20%20%20%20%3Cstyle%3Ehtml%2C%20body%20%7Bwidth%3A%20100%25%3Bheight%3A%20100%25%3Bmargin%3A%200%3Bpadding%3A%200%3B%7D%3C/style%3E%0A%20%20%20%20%3Cstyle%3E%23map%20%7Bposition%3Aabsolute%3Btop%3A0%3Bbottom%3A0%3Bright%3A0%3Bleft%3A0%3B%7D%3C/style%3E%0A%20%20%20%20%0A%20%20%20%20%3Cmeta%20name%3D%22viewport%22%20content%3D%22width%3Ddevice-width%2C%0A%20%20%20%20%20%20%20%20initial-scale%3D1.0%2C%20maximum-scale%3D1.0%2C%20user-scalable%3Dno%22%20/%3E%0A%20%20%20%20%3Cstyle%3E%23map_b3e6367f41874dd0836f30e9dfc5b1a6%20%7B%0A%20%20%20%20%20%20%20%20position%3A%20relative%3B%0A%20%20%20%20%20%20%20%20width%3A%20600.0px%3B%0A%20%20%20%20%20%20%20%20height%3A%20400.0px%3B%0A%20%20%20%20%20%20%20%20left%3A%200.0%25%3B%0A%20%20%20%20%20%20%20%20top%3A%200.0%25%3B%0A%20%20%20%20%20%20%20%20%7D%0A%20%20%20%20%3C/style%3E%0A%3C/head%3E%0A%3Cbody%3E%20%20%20%20%0A%20%20%20%20%0A%20%20%20%20%3Cdiv%20class%3D%22folium-map%22%20id%3D%22map_b3e6367f41874dd0836f30e9dfc5b1a6%22%20%3E%3C/div%3E%0A%3C/body%3E%0A%3Cscript%3E%20%20%20%20%0A%20%20%20%20%0A%20%20%20%20%0A%20%20%20%20%20%20%20%20var%20bounds%20%3D%20null%3B%0A%20%20%20%20%0A%0A%20%20%20%20var%20map_b3e6367f41874dd0836f30e9dfc5b1a6%20%3D%20L.map%28%0A%20%20%20%20%20%20%20%20%27map_b3e6367f41874dd0836f30e9dfc5b1a6%27%2C%20%7B%0A%20%20%20%20%20%20%20%20center%3A%20%5B52.379188537597656%2C%204.899431228637695%5D%2C%0A%20%20%20%20%20%20%20%20zoom%3A%207%2C%0A%20%20%20%20%20%20%20%20maxBounds%3A%20bounds%2C%0A%20%20%20%20%20%20%20%20layers%3A%20%5B%5D%2C%0A%20%20%20%20%20%20%20%20worldCopyJump%3A%20false%2C%0A%20%20%20%20%20%20%20%20crs%3A%20L.CRS.EPSG3857%2C%0A%20%20%20%20%20%20%20%20zoomControl%3A%20true%2C%0A%20%20%20%20%20%20%20%20%7D%29%3B%0AL.control.scale%28%29.addTo%28map_b3e6367f41874dd0836f30e9dfc5b1a6%29%3B%0A%0A%20%20%20%20%0A%20%20%20%20var%20tile_layer_a81e1f8b0d3c4abdb6f16a6879762ebb%20%3D%20L.tileLayer%28%0A%20%20%20%20%20%20%20%20%27https%3A//%7Bs%7D.tile.openstreetmap.org/%7Bz%7D/%7Bx%7D/%7By%7D.png%27%2C%0A%20%20%20%20%20%20%20%20%7B%0A%20%20%20%20%20%20%20%20%22attribution%22%3A%20null%2C%0A%20%20%20%20%20%20%20%20%22detectRetina%22%3A%20false%2C%0A%20%20%20%20%20%20%20%20%22maxNativeZoom%22%3A%2018%2C%0A%20%20%20%20%20%20%20%20%22maxZoom%22%3A%2018%2C%0A%20%20%20%20%20%20%20%20%22minZoom%22%3A%200%2C%0A%20%20%20%20%20%20%20%20%22noWrap%22%3A%20false%2C%0A%20%20%20%20%20%20%20%20%22opacity%22%3A%201%2C%0A%20%20%20%20%20%20%20%20%22subdomains%22%3A%20%22abc%22%2C%0A%20%20%20%20%20%20%20%20%22tms%22%3A%20false%0A%7D%29.addTo%28map_b3e6367f41874dd0836f30e9dfc5b1a6%29%3B%0A%20%20%20%20%0A%20%20%20%20%20%20%20%20var%20marker_26026a3dd7194fbdb6faf49b4cb134e8%20%3D%20L.marker%28%0A%20%20%20%20%20%20%20%20%20%20%20%20%5B52.379188537597656%2C%204.899431228637695%5D%2C%0A%20%20%20%20%20%20%20%20%20%20%20%20%7B%0A%20%20%20%20%20%20%20%20%20%20%20%20%20%20%20%20icon%3A%20new%20L.Icon.Default%28%29%2C%0A%20%20%20%20%20%20%20%20%20%20%20%20%20%20%20%20%7D%0A%20%20%20%20%20%20%20%20%20%20%20%20%29.addTo%28map_b3e6367f41874dd0836f30e9dfc5b1a6%29%3B%0A%20%20%20%20%20%20%20%20%0A%20%20%20%20%0A%20%20%20%20%20%20%20%20%20%20%20%20var%20popup_ffad07da248b495da021a997f9cbb674%20%3D%20L.popup%28%7BmaxWidth%3A%20%27100%25%27%0A%20%20%20%20%20%20%20%20%20%20%20%20%0A%20%20%20%20%20%20%20%20%20%20%20%20%7D%29%3B%0A%0A%20%20%20%20%20%20%20%20%20%20%20%20%0A%20%20%20%20%20%20%20%20%20%20%20%20%20%20%20%20var%20html_ae407bede38c40bf90424faa64838091%20%3D%20%24%28%60%3Cdiv%20id%3D%22html_ae407bede38c40bf90424faa64838091%22%20style%3D%22width%3A%20100.0%25%3B%20height%3A%20100.0%25%3B%22%3EAmsterdam%3C/div%3E%60%29%5B0%5D%3B%0A%20%20%20%20%20%20%20%20%20%20%20%20%20%20%20%20popup_ffad07da248b495da021a997f9cbb674.setContent%28html_ae407bede38c40bf90424faa64838091%29%3B%0A%20%20%20%20%20%20%20%20%20%20%20%20%0A%0A%20%20%20%20%20%20%20%20%20%20%20%20marker_26026a3dd7194fbdb6faf49b4cb134e8.bindPopup%28popup_ffad07da248b495da021a997f9cbb674%29%0A%20%20%20%20%20%20%20%20%20%20%20%20%3B%0A%0A%20%20%20%20%20%20%20%20%20%20%20%20%0A%20%20%20%20%20%20%20%20%0A%20%20%20%20%0A%20%20%20%20%20%20%20%20var%20marker_3a9b6472d55a4a228494703f36712e1a%20%3D%20L.marker%28%0A%20%20%20%20%20%20%20%20%20%20%20%20%5B52.09287643432617%2C%205.104479789733887%5D%2C%0A%20%20%20%20%20%20%20%20%20%20%20%20%7B%0A%20%20%20%20%20%20%20%20%20%20%20%20%20%20%20%20icon%3A%20new%20L.Icon.Default%28%29%2C%0A%20%20%20%20%20%20%20%20%20%20%20%20%20%20%20%20%7D%0A%20%20%20%20%20%20%20%20%20%20%20%20%29.addTo%28map_b3e6367f41874dd0836f30e9dfc5b1a6%29%3B%0A%20%20%20%20%20%20%20%20%0A%20%20%20%20%0A%20%20%20%20%20%20%20%20%20%20%20%20var%20popup_e16584ce66054b1abe2beb2928a264cc%20%3D%20L.popup%28%7BmaxWidth%3A%20%27100%25%27%0A%20%20%20%20%20%20%20%20%20%20%20%20%0A%20%20%20%20%20%20%20%20%20%20%20%20%7D%29%3B%0A%0A%20%20%20%20%20%20%20%20%20%20%20%20%0A%20%20%20%20%20%20%20%20%20%20%20%20%20%20%20%20var%20html_8bceb30dd34f4e65870e9dc11a26302d%20%3D%20%24%28%60%3Cdiv%20id%3D%22html_8bceb30dd34f4e65870e9dc11a26302d%22%20style%3D%22width%3A%20100.0%25%3B%20height%3A%20100.0%25%3B%22%3EUtrecht%3C/div%3E%60%29%5B0%5D%3B%0A%20%20%20%20%20%20%20%20%20%20%20%20%20%20%20%20popup_e16584ce66054b1abe2beb2928a264cc.setContent%28html_8bceb30dd34f4e65870e9dc11a26302d%29%3B%0A%20%20%20%20%20%20%20%20%20%20%20%20%0A%0A%20%20%20%20%20%20%20%20%20%20%20%20marker_3a9b6472d55a4a228494703f36712e1a.bindPopup%28popup_e16584ce66054b1abe2beb2928a264cc%29%0A%20%20%20%20%20%20%20%20%20%20%20%20%3B%0A%0A%20%20%20%20%20%20%20%20%20%20%20%20%0A%20%20%20%20%20%20%20%20%0A%20%20%20%20%0A%20%20%20%20%20%20%20%20var%20marker_02beef22ef184e048d06432aaac8784d%20%3D%20L.marker%28%0A%20%20%20%20%20%20%20%20%20%20%20%20%5B52.07866287231445%2C%204.288787841796875%5D%2C%0A%20%20%20%20%20%20%20%20%20%20%20%20%7B%0A%20%20%20%20%20%20%20%20%20%20%20%20%20%20%20%20icon%3A%20new%20L.Icon.Default%28%29%2C%0A%20%20%20%20%20%20%20%20%20%20%20%20%20%20%20%20%7D%0A%20%20%20%20%20%20%20%20%20%20%20%20%29.addTo%28map_b3e6367f41874dd0836f30e9dfc5b1a6%29%3B%0A%20%20%20%20%20%20%20%20%0A%20%20%20%20%0A%20%20%20%20%20%20%20%20%20%20%20%20var%20popup_17fc004d452044998efe3416e33361a5%20%3D%20L.popup%28%7BmaxWidth%3A%20%27100%25%27%0A%20%20%20%20%20%20%20%20%20%20%20%20%0A%20%20%20%20%20%20%20%20%20%20%20%20%7D%29%3B%0A%0A%20%20%20%20%20%20%20%20%20%20%20%20%0A%20%20%20%20%20%20%20%20%20%20%20%20%20%20%20%20var%20html_924081df0f94440693b9e40f4dd13e32%20%3D%20%24%28%60%3Cdiv%20id%3D%22html_924081df0f94440693b9e40f4dd13e32%22%20style%3D%22width%3A%20100.0%25%3B%20height%3A%20100.0%25%3B%22%3EDen%20Haag%3C/div%3E%60%29%5B0%5D%3B%0A%20%20%20%20%20%20%20%20%20%20%20%20%20%20%20%20popup_17fc004d452044998efe3416e33361a5.setContent%28html_924081df0f94440693b9e40f4dd13e32%29%3B%0A%20%20%20%20%20%20%20%20%20%20%20%20%0A%0A%20%20%20%20%20%20%20%20%20%20%20%20marker_02beef22ef184e048d06432aaac8784d.bindPopup%28popup_17fc004d452044998efe3416e33361a5%29%0A%20%20%20%20%20%20%20%20%20%20%20%20%3B%0A%0A%20%20%20%20%20%20%20%20%20%20%20%20%0A%20%20%20%20%20%20%20%20%0A%20%20%20%20%0A%20%20%20%20%20%20%20%20var%20marker_e2a2d70f5fbb473d951eec868617c86a%20%3D%20L.marker%28%0A%20%20%20%20%20%20%20%20%20%20%20%20%5B53.612388610839844%2C%20-0.2221899926662445%5D%2C%0A%20%20%20%20%20%20%20%20%20%20%20%20%7B%0A%20%20%20%20%20%20%20%20%20%20%20%20%20%20%20%20icon%3A%20new%20L.Icon.Default%28%29%2C%0A%20%20%20%20%20%20%20%20%20%20%20%20%20%20%20%20%7D%0A%20%20%20%20%20%20%20%20%20%20%20%20%29.addTo%28map_b3e6367f41874dd0836f30e9dfc5b1a6%29%3B%0A%20%20%20%20%20%20%20%20%0A%20%20%20%20%0A%20%20%20%20%20%20%20%20%20%20%20%20var%20popup_a9989f3c31a34340906669a77064a025%20%3D%20L.popup%28%7BmaxWidth%3A%20%27100%25%27%0A%20%20%20%20%20%20%20%20%20%20%20%20%0A%20%20%20%20%20%20%20%20%20%20%20%20%7D%29%3B%0A%0A%20%20%20%20%20%20%20%20%20%20%20%20%0A%20%20%20%20%20%20%20%20%20%20%20%20%20%20%20%20var%20html_c09029774e384032a042a759c1deeed0%20%3D%20%24%28%60%3Cdiv%20id%3D%22html_c09029774e384032a042a759c1deeed0%22%20style%3D%22width%3A%20100.0%25%3B%20height%3A%20100.0%25%3B%22%3EImmingham%3C/div%3E%60%29%5B0%5D%3B%0A%20%20%20%20%20%20%20%20%20%20%20%20%20%20%20%20popup_a9989f3c31a34340906669a77064a025.setContent%28html_c09029774e384032a042a759c1deeed0%29%3B%0A%20%20%20%20%20%20%20%20%20%20%20%20%0A%0A%20%20%20%20%20%20%20%20%20%20%20%20marker_e2a2d70f5fbb473d951eec868617c86a.bindPopup%28popup_a9989f3c31a34340906669a77064a025%29%0A%20%20%20%20%20%20%20%20%20%20%20%20%3B%0A%0A%20%20%20%20%20%20%20%20%20%20%20%20%0A%20%20%20%20%20%20%20%20%0A%20%20%20%20%0A%20%20%20%20%20%20%20%20var%20marker_a477a8c8a7f149ccb2deae792b682e8a%20%3D%20L.marker%28%0A%20%20%20%20%20%20%20%20%20%20%20%20%5B53.522850036621094%2C%20-1.131160020828247%5D%2C%0A%20%20%20%20%20%20%20%20%20%20%20%20%7B%0A%20%20%20%20%20%20%20%20%20%20%20%20%20%20%20%20icon%3A%20new%20L.Icon.Default%28%29%2C%0A%20%20%20%20%20%20%20%20%20%20%20%20%20%20%20%20%7D%0A%20%20%20%20%20%20%20%20%20%20%20%20%29.addTo%28map_b3e6367f41874dd0836f30e9dfc5b1a6%29%3B%0A%20%20%20%20%20%20%20%20%0A%20%20%20%20%0A%20%20%20%20%20%20%20%20%20%20%20%20var%20popup_d6fa668d01a44317946d69c44de04441%20%3D%20L.popup%28%7BmaxWidth%3A%20%27100%25%27%0A%20%20%20%20%20%20%20%20%20%20%20%20%0A%20%20%20%20%20%20%20%20%20%20%20%20%7D%29%3B%0A%0A%20%20%20%20%20%20%20%20%20%20%20%20%0A%20%20%20%20%20%20%20%20%20%20%20%20%20%20%20%20var%20html_36bd320c7966442c95e83d381d73dfdf%20%3D%20%24%28%60%3Cdiv%20id%3D%22html_36bd320c7966442c95e83d381d73dfdf%22%20style%3D%22width%3A%20100.0%25%3B%20height%3A%20100.0%25%3B%22%3EDoncaster%3C/div%3E%60%29%5B0%5D%3B%0A%20%20%20%20%20%20%20%20%20%20%20%20%20%20%20%20popup_d6fa668d01a44317946d69c44de04441.setContent%28html_36bd320c7966442c95e83d381d73dfdf%29%3B%0A%20%20%20%20%20%20%20%20%20%20%20%20%0A%0A%20%20%20%20%20%20%20%20%20%20%20%20marker_a477a8c8a7f149ccb2deae792b682e8a.bindPopup%28popup_d6fa668d01a44317946d69c44de04441%29%0A%20%20%20%20%20%20%20%20%20%20%20%20%3B%0A%0A%20%20%20%20%20%20%20%20%20%20%20%20%0A%20%20%20%20%20%20%20%20%0A%20%20%20%20%0A%20%20%20%20%20%20%20%20var%20marker_4fe8e0a94b124d7489ab0fc0dd62ea74%20%3D%20L.marker%28%0A%20%20%20%20%20%20%20%20%20%20%20%20%5B51.977500915527344%2C%204.13332986831665%5D%2C%0A%20%20%20%20%20%20%20%20%20%20%20%20%7B%0A%20%20%20%20%20%20%20%20%20%20%20%20%20%20%20%20icon%3A%20new%20L.Icon.Default%28%29%2C%0A%20%20%20%20%20%20%20%20%20%20%20%20%20%20%20%20%7D%0A%20%20%20%20%20%20%20%20%20%20%20%20%29.addTo%28map_b3e6367f41874dd0836f30e9dfc5b1a6%29%3B%0A%20%20%20%20%20%20%20%20%0A%20%20%20%20%0A%20%20%20%20%20%20%20%20%20%20%20%20var%20popup_e0681a729f4045fab37a76dd114d3b18%20%3D%20L.popup%28%7BmaxWidth%3A%20%27100%25%27%0A%20%20%20%20%20%20%20%20%20%20%20%20%0A%20%20%20%20%20%20%20%20%20%20%20%20%7D%29%3B%0A%0A%20%20%20%20%20%20%20%20%20%20%20%20%0A%20%20%20%20%20%20%20%20%20%20%20%20%20%20%20%20var%20html_b49b9d26398f47c88038a58cfb37c31f%20%3D%20%24%28%60%3Cdiv%20id%3D%22html_b49b9d26398f47c88038a58cfb37c31f%22%20style%3D%22width%3A%20100.0%25%3B%20height%3A%20100.0%25%3B%22%3EHoek%20van%20Holland%3C/div%3E%60%29%5B0%5D%3B%0A%20%20%20%20%20%20%20%20%20%20%20%20%20%20%20%20popup_e0681a729f4045fab37a76dd114d3b18.setContent%28html_b49b9d26398f47c88038a58cfb37c31f%29%3B%0A%20%20%20%20%20%20%20%20%20%20%20%20%0A%0A%20%20%20%20%20%20%20%20%20%20%20%20marker_4fe8e0a94b124d7489ab0fc0dd62ea74.bindPopup%28popup_e0681a729f4045fab37a76dd114d3b18%29%0A%20%20%20%20%20%20%20%20%20%20%20%20%3B%0A%0A%20%20%20%20%20%20%20%20%20%20%20%20%0A%20%20%20%20%20%20%20%20%0A%20%20%20%20%0A%20%20%20%20%20%20%20%20var%20marker_841cbabb184b49c5b886c94d56e9e8d0%20%3D%20L.marker%28%0A%20%20%20%20%20%20%20%20%20%20%20%20%5B51.963748931884766%2C%201.351099967956543%5D%2C%0A%20%20%20%20%20%20%20%20%20%20%20%20%7B%0A%20%20%20%20%20%20%20%20%20%20%20%20%20%20%20%20icon%3A%20new%20L.Icon.Default%28%29%2C%0A%20%20%20%20%20%20%20%20%20%20%20%20%20%20%20%20%7D%0A%20%20%20%20%20%20%20%20%20%20%20%20%29.addTo%28map_b3e6367f41874dd0836f30e9dfc5b1a6%29%3B%0A%20%20%20%20%20%20%20%20%0A%20%20%20%20%0A%20%20%20%20%20%20%20%20%20%20%20%20var%20popup_3f4b9ea1d79a4b418db0c2c594d16254%20%3D%20L.popup%28%7BmaxWidth%3A%20%27100%25%27%0A%20%20%20%20%20%20%20%20%20%20%20%20%0A%20%20%20%20%20%20%20%20%20%20%20%20%7D%29%3B%0A%0A%20%20%20%20%20%20%20%20%20%20%20%20%0A%20%20%20%20%20%20%20%20%20%20%20%20%20%20%20%20var%20html_734482a86e1640e783640ce033097f11%20%3D%20%24%28%60%3Cdiv%20id%3D%22html_734482a86e1640e783640ce033097f11%22%20style%3D%22width%3A%20100.0%25%3B%20height%3A%20100.0%25%3B%22%3EFelixstowe%3C/div%3E%60%29%5B0%5D%3B%0A%20%20%20%20%20%20%20%20%20%20%20%20%20%20%20%20popup_3f4b9ea1d79a4b418db0c2c594d16254.setContent%28html_734482a86e1640e783640ce033097f11%29%3B%0A%20%20%20%20%20%20%20%20%20%20%20%20%0A%0A%20%20%20%20%20%20%20%20%20%20%20%20marker_841cbabb184b49c5b886c94d56e9e8d0.bindPopup%28popup_3f4b9ea1d79a4b418db0c2c594d16254%29%0A%20%20%20%20%20%20%20%20%20%20%20%20%3B%0A%0A%20%20%20%20%20%20%20%20%20%20%20%20%0A%20%20%20%20%20%20%20%20%0A%20%20%20%20%0A%20%20%20%20%20%20%20%20var%20marker_ff648de4c72342cbbf398ee0656f9a67%20%3D%20L.marker%28%0A%20%20%20%20%20%20%20%20%20%20%20%20%5B52.05916976928711%2C%201.1554499864578247%5D%2C%0A%20%20%20%20%20%20%20%20%20%20%20%20%7B%0A%20%20%20%20%20%20%20%20%20%20%20%20%20%20%20%20icon%3A%20new%20L.Icon.Default%28%29%2C%0A%20%20%20%20%20%20%20%20%20%20%20%20%20%20%20%20%7D%0A%20%20%20%20%20%20%20%20%20%20%20%20%29.addTo%28map_b3e6367f41874dd0836f30e9dfc5b1a6%29%3B%0A%20%20%20%20%20%20%20%20%0A%20%20%20%20%0A%20%20%20%20%20%20%20%20%20%20%20%20var%20popup_f11bdad4ae054217b26663ccd97920c1%20%3D%20L.popup%28%7BmaxWidth%3A%20%27100%25%27%0A%20%20%20%20%20%20%20%20%20%20%20%20%0A%20%20%20%20%20%20%20%20%20%20%20%20%7D%29%3B%0A%0A%20%20%20%20%20%20%20%20%20%20%20%20%0A%20%20%20%20%20%20%20%20%20%20%20%20%20%20%20%20var%20html_282811812fda414eaa9d277e7edb3438%20%3D%20%24%28%60%3Cdiv%20id%3D%22html_282811812fda414eaa9d277e7edb3438%22%20style%3D%22width%3A%20100.0%25%3B%20height%3A%20100.0%25%3B%22%3EIpswich%3C/div%3E%60%29%5B0%5D%3B%0A%20%20%20%20%20%20%20%20%20%20%20%20%20%20%20%20popup_f11bdad4ae054217b26663ccd97920c1.setContent%28html_282811812fda414eaa9d277e7edb3438%29%3B%0A%20%20%20%20%20%20%20%20%20%20%20%20%0A%0A%20%20%20%20%20%20%20%20%20%20%20%20marker_ff648de4c72342cbbf398ee0656f9a67.bindPopup%28popup_f11bdad4ae054217b26663ccd97920c1%29%0A%20%20%20%20%20%20%20%20%20%20%20%20%3B%0A%0A%20%20%20%20%20%20%20%20%20%20%20%20%0A%20%20%20%20%20%20%20%20%0A%20%20%20%20%0A%20%20%20%20%20%20%20%20var%20marker_5435b27ea85e4e048fba3602a2bf3faa%20%3D%20L.marker%28%0A%20%20%20%20%20%20%20%20%20%20%20%20%5B51.88920974731445%2C%200.9042099714279175%5D%2C%0A%20%20%20%20%20%20%20%20%20%20%20%20%7B%0A%20%20%20%20%20%20%20%20%20%20%20%20%20%20%20%20icon%3A%20new%20L.Icon.Default%28%29%2C%0A%20%20%20%20%20%20%20%20%20%20%20%20%20%20%20%20%7D%0A%20%20%20%20%20%20%20%20%20%20%20%20%29.addTo%28map_b3e6367f41874dd0836f30e9dfc5b1a6%29%3B%0A%20%20%20%20%20%20%20%20%0A%20%20%20%20%0A%20%20%20%20%20%20%20%20%20%20%20%20var%20popup_b2a43522ee1e462aa4ebea9a229ae524%20%3D%20L.popup%28%7BmaxWidth%3A%20%27100%25%27%0A%20%20%20%20%20%20%20%20%20%20%20%20%0A%20%20%20%20%20%20%20%20%20%20%20%20%7D%29%3B%0A%0A%20%20%20%20%20%20%20%20%20%20%20%20%0A%20%20%20%20%20%20%20%20%20%20%20%20%20%20%20%20var%20html_ad77b8754f6644aa80d19755a778be77%20%3D%20%24%28%60%3Cdiv%20id%3D%22html_ad77b8754f6644aa80d19755a778be77%22%20style%3D%22width%3A%20100.0%25%3B%20height%3A%20100.0%25%3B%22%3EColchester%3C/div%3E%60%29%5B0%5D%3B%0A%20%20%20%20%20%20%20%20%20%20%20%20%20%20%20%20popup_b2a43522ee1e462aa4ebea9a229ae524.setContent%28html_ad77b8754f6644aa80d19755a778be77%29%3B%0A%20%20%20%20%20%20%20%20%20%20%20%20%0A%0A%20%20%20%20%20%20%20%20%20%20%20%20marker_5435b27ea85e4e048fba3602a2bf3faa.bindPopup%28popup_b2a43522ee1e462aa4ebea9a229ae524%29%0A%20%20%20%20%20%20%20%20%20%20%20%20%3B%0A%0A%20%20%20%20%20%20%20%20%20%20%20%20%0A%20%20%20%20%20%20%20%20%0A%20%20%20%20%0A%20%20%20%20%20%20%20%20var%20marker_4125038c1f5e4ff3947a4e58606e5cde%20%3D%20L.marker%28%0A%20%20%20%20%20%20%20%20%20%20%20%20%5B51.509864807128906%2C%20-0.11809200048446655%5D%2C%0A%20%20%20%20%20%20%20%20%20%20%20%20%7B%0A%20%20%20%20%20%20%20%20%20%20%20%20%20%20%20%20icon%3A%20new%20L.Icon.Default%28%29%2C%0A%20%20%20%20%20%20%20%20%20%20%20%20%20%20%20%20%7D%0A%20%20%20%20%20%20%20%20%20%20%20%20%29.addTo%28map_b3e6367f41874dd0836f30e9dfc5b1a6%29%3B%0A%20%20%20%20%20%20%20%20%0A%20%20%20%20%0A%20%20%20%20%20%20%20%20%20%20%20%20var%20popup_e1b6475f03f8442db38bb29cca7aaee7%20%3D%20L.popup%28%7BmaxWidth%3A%20%27100%25%27%0A%20%20%20%20%20%20%20%20%20%20%20%20%0A%20%20%20%20%20%20%20%20%20%20%20%20%7D%29%3B%0A%0A%20%20%20%20%20%20%20%20%20%20%20%20%0A%20%20%20%20%20%20%20%20%20%20%20%20%20%20%20%20var%20html_5e813a7db1dd42dca69c4a47ad9ddd2d%20%3D%20%24%28%60%3Cdiv%20id%3D%22html_5e813a7db1dd42dca69c4a47ad9ddd2d%22%20style%3D%22width%3A%20100.0%25%3B%20height%3A%20100.0%25%3B%22%3ELondon%3C/div%3E%60%29%5B0%5D%3B%0A%20%20%20%20%20%20%20%20%20%20%20%20%20%20%20%20popup_e1b6475f03f8442db38bb29cca7aaee7.setContent%28html_5e813a7db1dd42dca69c4a47ad9ddd2d%29%3B%0A%20%20%20%20%20%20%20%20%20%20%20%20%0A%0A%20%20%20%20%20%20%20%20%20%20%20%20marker_4125038c1f5e4ff3947a4e58606e5cde.bindPopup%28popup_e1b6475f03f8442db38bb29cca7aaee7%29%0A%20%20%20%20%20%20%20%20%20%20%20%20%3B%0A%0A%20%20%20%20%20%20%20%20%20%20%20%20%0A%20%20%20%20%20%20%20%20%0A%20%20%20%20%0A%20%20%20%20%20%20%20%20var%20marker_a28df35eb21a4e5c8ec37b30aabda3ec%20%3D%20L.marker%28%0A%20%20%20%20%20%20%20%20%20%20%20%20%5B51.92250061035156%2C%204.479169845581055%5D%2C%0A%20%20%20%20%20%20%20%20%20%20%20%20%7B%0A%20%20%20%20%20%20%20%20%20%20%20%20%20%20%20%20icon%3A%20new%20L.Icon.Default%28%29%2C%0A%20%20%20%20%20%20%20%20%20%20%20%20%20%20%20%20%7D%0A%20%20%20%20%20%20%20%20%20%20%20%20%29.addTo%28map_b3e6367f41874dd0836f30e9dfc5b1a6%29%3B%0A%20%20%20%20%20%20%20%20%0A%20%20%20%20%0A%20%20%20%20%20%20%20%20%20%20%20%20var%20popup_9f7f4e93746741fc8a89f889c747000e%20%3D%20L.popup%28%7BmaxWidth%3A%20%27100%25%27%0A%20%20%20%20%20%20%20%20%20%20%20%20%0A%20%20%20%20%20%20%20%20%20%20%20%20%7D%29%3B%0A%0A%20%20%20%20%20%20%20%20%20%20%20%20%0A%20%20%20%20%20%20%20%20%20%20%20%20%20%20%20%20var%20html_634aa79107b44a7781cc9a9621390a50%20%3D%20%24%28%60%3Cdiv%20id%3D%22html_634aa79107b44a7781cc9a9621390a50%22%20style%3D%22width%3A%20100.0%25%3B%20height%3A%20100.0%25%3B%22%3ERotterdam%3C/div%3E%60%29%5B0%5D%3B%0A%20%20%20%20%20%20%20%20%20%20%20%20%20%20%20%20popup_9f7f4e93746741fc8a89f889c747000e.setContent%28html_634aa79107b44a7781cc9a9621390a50%29%3B%0A%20%20%20%20%20%20%20%20%20%20%20%20%0A%0A%20%20%20%20%20%20%20%20%20%20%20%20marker_a28df35eb21a4e5c8ec37b30aabda3ec.bindPopup%28popup_9f7f4e93746741fc8a89f889c747000e%29%0A%20%20%20%20%20%20%20%20%20%20%20%20%3B%0A%0A%20%20%20%20%20%20%20%20%20%20%20%20%0A%20%20%20%20%20%20%20%20%0A%20%20%20%20%0A%20%20%20%20%20%20%20%20var%20marker_a4aeab42af934f04b11f5741e8811d54%20%3D%20L.marker%28%0A%20%20%20%20%20%20%20%20%20%20%20%20%5B52.01667022705078%2C%204.708330154418945%5D%2C%0A%20%20%20%20%20%20%20%20%20%20%20%20%7B%0A%20%20%20%20%20%20%20%20%20%20%20%20%20%20%20%20icon%3A%20new%20L.Icon.Default%28%29%2C%0A%20%20%20%20%20%20%20%20%20%20%20%20%20%20%20%20%7D%0A%20%20%20%20%20%20%20%20%20%20%20%20%29.addTo%28map_b3e6367f41874dd0836f30e9dfc5b1a6%29%3B%0A%20%20%20%20%20%20%20%20%0A%20%20%20%20%0A%20%20%20%20%20%20%20%20%20%20%20%20var%20popup_3e2017442d2c40fe9cbce627214ecd70%20%3D%20L.popup%28%7BmaxWidth%3A%20%27100%25%27%0A%20%20%20%20%20%20%20%20%20%20%20%20%0A%20%20%20%20%20%20%20%20%20%20%20%20%7D%29%3B%0A%0A%20%20%20%20%20%20%20%20%20%20%20%20%0A%20%20%20%20%20%20%20%20%20%20%20%20%20%20%20%20var%20html_3c6a3be722974e1eaad34773d6f0b1c5%20%3D%20%24%28%60%3Cdiv%20id%3D%22html_3c6a3be722974e1eaad34773d6f0b1c5%22%20style%3D%22width%3A%20100.0%25%3B%20height%3A%20100.0%25%3B%22%3EGouda%3C/div%3E%60%29%5B0%5D%3B%0A%20%20%20%20%20%20%20%20%20%20%20%20%20%20%20%20popup_3e2017442d2c40fe9cbce627214ecd70.setContent%28html_3c6a3be722974e1eaad34773d6f0b1c5%29%3B%0A%20%20%20%20%20%20%20%20%20%20%20%20%0A%0A%20%20%20%20%20%20%20%20%20%20%20%20marker_a4aeab42af934f04b11f5741e8811d54.bindPopup%28popup_3e2017442d2c40fe9cbce627214ecd70%29%0A%20%20%20%20%20%20%20%20%20%20%20%20%3B%0A%0A%20%20%20%20%20%20%20%20%20%20%20%20%0A%20%20%20%20%20%20%20%20%0A%3C/script%3E onload=\"this.contentDocument.open();this.contentDocument.write(    decodeURIComponent(this.getAttribute('data-html')));this.contentDocument.close();\" allowfullscreen webkitallowfullscreen mozallowfullscreen></iframe></div></div>"
      ],
      "text/plain": [
       "<folium.folium.Map at 0x7f4e0965de50>"
      ]
     },
     "metadata": {},
     "execution_count": 153
    }
   ]
  },
  {
   "cell_type": "markdown",
   "metadata": {
    "id": "2rYmQY7ka0Cq"
   },
   "source": [
    "# Breadth First Search with Apache Spark"
   ]
  },
  {
   "cell_type": "code",
   "metadata": {
    "colab": {
     "base_uri": "https://localhost:8080/"
    },
    "id": "OMlmXR8xazcz",
    "outputId": "0b323491-8235-4217-a02a-6b4eb6f8ccf1"
   },
   "source": [
    "(g.vertices\n",
    ".filter(\"population > 100000 and population < 300000\")\n",
    ".sort(\"population\")\n",
    ".show())"
   ],
   "execution_count": null,
   "outputs": [
    {
     "output_type": "stream",
     "name": "stdout",
     "text": [
      "+----------+--------+---------+----------+\n",
      "|        id|latitude|longitude|population|\n",
      "+----------+--------+---------+----------+\n",
      "|Colchester|51.88921|  0.90421|    104390|\n",
      "|   Ipswich|52.05917|  1.15545|    133384|\n",
      "+----------+--------+---------+----------+\n",
      "\n"
     ]
    }
   ]
  },
  {
   "cell_type": "code",
   "metadata": {
    "id": "fr-LKHItbFDh"
   },
   "source": [
    "from_expr = \"id='Den Haag'\"\n",
    "to_expr = \"population > 100000 and population < 300000 and id <> 'Den Haag'\"\n",
    "result = g.bfs(from_expr, to_expr)"
   ],
   "execution_count": null,
   "outputs": []
  },
  {
   "cell_type": "code",
   "metadata": {
    "colab": {
     "base_uri": "https://localhost:8080/"
    },
    "id": "LuEUPA0LbJux",
    "outputId": "0f81a7a8-ba08-49d0-c3bb-7e777fa6a81a"
   },
   "source": [
    "print(result.columns)"
   ],
   "execution_count": null,
   "outputs": [
    {
     "output_type": "stream",
     "name": "stdout",
     "text": [
      "['from', 'e0', 'v1', 'e1', 'v2', 'e2', 'to']\n"
     ]
    }
   ]
  },
  {
   "cell_type": "code",
   "metadata": {
    "colab": {
     "base_uri": "https://localhost:8080/"
    },
    "id": "ibzSdMbjbLy7",
    "outputId": "56d16144-7cc3-4e0f-9ab6-9c65d508083a"
   },
   "source": [
    "columns = [column for column in result.columns if not column.startswith(\"e\")]\n",
    "result.select(columns).show()"
   ],
   "execution_count": null,
   "outputs": [
    {
     "output_type": "stream",
     "name": "stdout",
     "text": [
      "+--------------------+--------------------+--------------------+--------------------+\n",
      "|                from|                  v1|                  v2|                  to|\n",
      "+--------------------+--------------------+--------------------+--------------------+\n",
      "|[Den Haag, 52.078...|[Hoek van Holland...|[Felixstowe, 51.9...|[Ipswich, 52.0591...|\n",
      "+--------------------+--------------------+--------------------+--------------------+\n",
      "\n"
     ]
    }
   ]
  },
  {
   "cell_type": "markdown",
   "metadata": {
    "id": "xOveKixRdaMq"
   },
   "source": [
    "# Shortest Path (Weighted) with Apache Spark"
   ]
  },
  {
   "cell_type": "code",
   "metadata": {
    "id": "ZZADhj77dVCD"
   },
   "source": [
    "from graphframes.lib import AggregateMessages as AM\n",
    "from pyspark.sql import functions as F"
   ],
   "execution_count": null,
   "outputs": []
  },
  {
   "cell_type": "code",
   "metadata": {
    "id": "PXse9gaVddqH"
   },
   "source": [
    "add_path_udf = F.udf(lambda path, id: path + [id], ArrayType(StringType()))"
   ],
   "execution_count": null,
   "outputs": []
  },
  {
   "cell_type": "code",
   "metadata": {
    "id": "Zk7Q4EUDdpoS"
   },
   "source": [
    "# // tag::custom-shortest-path[]\n",
    "def shortest_path(g, origin, destination, column_name=\"cost\"):\n",
    "    if g.vertices.filter(g.vertices.id == destination).count() == 0:\n",
    "        return (spark.createDataFrame(sc.emptyRDD(), g.vertices.schema)\n",
    "                .withColumn(\"path\", F.array()))\n",
    "\n",
    "    vertices = (g.vertices.withColumn(\"visited\", F.lit(False))\n",
    "                .withColumn(\"distance\", F.when(g.vertices[\"id\"] == origin, 0)\n",
    "                            .otherwise(float(\"inf\")))\n",
    "                .withColumn(\"path\", F.array()))\n",
    "    cached_vertices = AM.getCachedDataFrame(vertices)\n",
    "    g2 = GraphFrame(cached_vertices, g.edges)\n",
    "\n",
    "    while g2.vertices.filter('visited == False').first():\n",
    "        current_node_id = g2.vertices.filter('visited == False').sort(\"distance\").first().id\n",
    "\n",
    "        msg_distance = AM.edge[column_name] + AM.src['distance']\n",
    "        msg_path = add_path_udf(AM.src[\"path\"], AM.src[\"id\"])\n",
    "        msg_for_dst = F.when(AM.src['id'] == current_node_id, F.struct(msg_distance, msg_path))\n",
    "        new_distances = g2.aggregateMessages(F.min(AM.msg).alias(\"aggMess\"),\n",
    "                                             sendToDst=msg_for_dst)\n",
    "\n",
    "        new_visited_col = F.when(\n",
    "            g2.vertices.visited | (g2.vertices.id == current_node_id), True).otherwise(False)\n",
    "        new_distance_col = F.when(new_distances[\"aggMess\"].isNotNull() &\n",
    "                                  (new_distances.aggMess[\"col1\"] < g2.vertices.distance),\n",
    "                                  new_distances.aggMess[\"col1\"]) \\\n",
    "            .otherwise(g2.vertices.distance)\n",
    "        new_path_col = F.when(new_distances[\"aggMess\"].isNotNull() &\n",
    "                              (new_distances.aggMess[\"col1\"] < g2.vertices.distance),\n",
    "                              new_distances.aggMess[\"col2\"].cast(\"array<string>\")) \\\n",
    "            .otherwise(g2.vertices.path)\n",
    "\n",
    "        new_vertices = (g2.vertices.join(new_distances, on=\"id\", how=\"left_outer\")\n",
    "                        .drop(new_distances[\"id\"])\n",
    "                        .withColumn(\"visited\", new_visited_col)\n",
    "                        .withColumn(\"newDistance\", new_distance_col)\n",
    "                        .withColumn(\"newPath\", new_path_col)\n",
    "                        .drop(\"aggMess\", \"distance\", \"path\")\n",
    "                        .withColumnRenamed('newDistance', 'distance')\n",
    "                        .withColumnRenamed('newPath', 'path'))\n",
    "        cached_new_vertices = AM.getCachedDataFrame(new_vertices)\n",
    "        g2 = GraphFrame(cached_new_vertices, g2.edges)\n",
    "        if g2.vertices.filter(g2.vertices.id == destination).first().visited:\n",
    "            return (g2.vertices.filter(g2.vertices.id == destination)\n",
    "                    .withColumn(\"newPath\", add_path_udf(\"path\", \"id\"))\n",
    "                    .drop(\"visited\", \"path\")\n",
    "                    .withColumnRenamed(\"newPath\", \"path\"))\n",
    "    return (spark.createDataFrame(sc.emptyRDD(), g.vertices.schema)\n",
    "            .withColumn(\"path\", F.array()))\n",
    "# // end::custom-shortest-path[]"
   ],
   "execution_count": null,
   "outputs": []
  },
  {
   "cell_type": "code",
   "metadata": {
    "colab": {
     "base_uri": "https://localhost:8080/"
    },
    "id": "ZqbVVeMydr2i",
    "outputId": "60bd3784-fb09-4af1-e6d1-a6a36ef1b712"
   },
   "source": [
    "result = shortest_path(g, \"Amsterdam\", \"Colchester\", \"cost\")\n",
    "result.select(\"id\", \"distance\", \"path\").show(truncate=False)"
   ],
   "execution_count": null,
   "outputs": [
    {
     "output_type": "stream",
     "name": "stdout",
     "text": [
      "+----------+--------+------------------------------------------------------------------------+\n",
      "|id        |distance|path                                                                    |\n",
      "+----------+--------+------------------------------------------------------------------------+\n",
      "|Colchester|347.0   |[Amsterdam, Den Haag, Hoek van Holland, Felixstowe, Ipswich, Colchester]|\n",
      "+----------+--------+------------------------------------------------------------------------+\n",
      "\n"
     ]
    }
   ]
  },
  {
   "cell_type": "code",
   "metadata": {
    "id": "buldl2oC0pLD"
   },
   "source": [
    "path = result.select('path').collect()"
   ],
   "execution_count": null,
   "outputs": []
  },
  {
   "cell_type": "code",
   "metadata": {
    "id": "od2oA7SS2yXQ"
   },
   "source": [
    "def add_line_to_map(path, m):\n",
    "  coords = []\n",
    "  for p in path[0][0]:\n",
    "    point = g.vertices.filter(f\"id = '{p}'\").collect()[0]\n",
    "    coords.append( [ point['latitude'], point['longitude'] ] )\n",
    "\n",
    "  folium.PolyLine(coords, color=\"red\", line_weight=5).add_to(m)"
   ],
   "execution_count": null,
   "outputs": []
  },
  {
   "cell_type": "code",
   "metadata": {
    "id": "gpG3CkhVxvef"
   },
   "source": [
    "add_line_to_map(path, map)"
   ],
   "execution_count": null,
   "outputs": []
  },
  {
   "cell_type": "code",
   "metadata": {
    "colab": {
     "base_uri": "https://localhost:8080/",
     "height": 915
    },
    "id": "x0muQcw-0ZxX",
    "outputId": "0d1ec8b9-618f-4afb-8648-ae9ebc03cc72"
   },
   "source": [
    "map"
   ],
   "execution_count": null,
   "outputs": [
    {
     "output_type": "execute_result",
     "data": {
      "text/html": [
       "<div style=\"width:100%;\"><div style=\"position:relative;width:100%;height:0;padding-bottom:60%;\"><span style=\"color:#565656\">Make this Notebook Trusted to load map: File -> Trust Notebook</span><iframe src=\"about:blank\" style=\"position:absolute;width:100%;height:100%;left:0;top:0;border:none !important;\" data-html=%3C%21DOCTYPE%20html%3E%0A%3Chead%3E%20%20%20%20%0A%20%20%20%20%3Cmeta%20http-equiv%3D%22content-type%22%20content%3D%22text/html%3B%20charset%3DUTF-8%22%20/%3E%0A%20%20%20%20%3Cscript%3EL_PREFER_CANVAS%3Dfalse%3B%20L_NO_TOUCH%3Dfalse%3B%20L_DISABLE_3D%3Dfalse%3B%3C/script%3E%0A%20%20%20%20%3Cscript%20src%3D%22https%3A//cdn.jsdelivr.net/npm/leaflet%401.4.0/dist/leaflet.js%22%3E%3C/script%3E%0A%20%20%20%20%3Cscript%20src%3D%22https%3A//code.jquery.com/jquery-1.12.4.min.js%22%3E%3C/script%3E%0A%20%20%20%20%3Cscript%20src%3D%22https%3A//maxcdn.bootstrapcdn.com/bootstrap/3.2.0/js/bootstrap.min.js%22%3E%3C/script%3E%0A%20%20%20%20%3Cscript%20src%3D%22https%3A//cdnjs.cloudflare.com/ajax/libs/Leaflet.awesome-markers/2.0.2/leaflet.awesome-markers.js%22%3E%3C/script%3E%0A%20%20%20%20%3Clink%20rel%3D%22stylesheet%22%20href%3D%22https%3A//cdn.jsdelivr.net/npm/leaflet%401.4.0/dist/leaflet.css%22/%3E%0A%20%20%20%20%3Clink%20rel%3D%22stylesheet%22%20href%3D%22https%3A//maxcdn.bootstrapcdn.com/bootstrap/3.2.0/css/bootstrap.min.css%22/%3E%0A%20%20%20%20%3Clink%20rel%3D%22stylesheet%22%20href%3D%22https%3A//maxcdn.bootstrapcdn.com/bootstrap/3.2.0/css/bootstrap-theme.min.css%22/%3E%0A%20%20%20%20%3Clink%20rel%3D%22stylesheet%22%20href%3D%22https%3A//maxcdn.bootstrapcdn.com/font-awesome/4.6.3/css/font-awesome.min.css%22/%3E%0A%20%20%20%20%3Clink%20rel%3D%22stylesheet%22%20href%3D%22https%3A//cdnjs.cloudflare.com/ajax/libs/Leaflet.awesome-markers/2.0.2/leaflet.awesome-markers.css%22/%3E%0A%20%20%20%20%3Clink%20rel%3D%22stylesheet%22%20href%3D%22https%3A//rawcdn.githack.com/python-visualization/folium/master/folium/templates/leaflet.awesome.rotate.css%22/%3E%0A%20%20%20%20%3Cstyle%3Ehtml%2C%20body%20%7Bwidth%3A%20100%25%3Bheight%3A%20100%25%3Bmargin%3A%200%3Bpadding%3A%200%3B%7D%3C/style%3E%0A%20%20%20%20%3Cstyle%3E%23map%20%7Bposition%3Aabsolute%3Btop%3A0%3Bbottom%3A0%3Bright%3A0%3Bleft%3A0%3B%7D%3C/style%3E%0A%20%20%20%20%0A%20%20%20%20%3Cmeta%20name%3D%22viewport%22%20content%3D%22width%3Ddevice-width%2C%0A%20%20%20%20%20%20%20%20initial-scale%3D1.0%2C%20maximum-scale%3D1.0%2C%20user-scalable%3Dno%22%20/%3E%0A%20%20%20%20%3Cstyle%3E%23map_dae31c382857486cb8d0965feb758ba9%20%7B%0A%20%20%20%20%20%20%20%20position%3A%20relative%3B%0A%20%20%20%20%20%20%20%20width%3A%20100.0%25%3B%0A%20%20%20%20%20%20%20%20height%3A%20100.0%25%3B%0A%20%20%20%20%20%20%20%20left%3A%200.0%25%3B%0A%20%20%20%20%20%20%20%20top%3A%200.0%25%3B%0A%20%20%20%20%20%20%20%20%7D%0A%20%20%20%20%3C/style%3E%0A%3C/head%3E%0A%3Cbody%3E%20%20%20%20%0A%20%20%20%20%0A%20%20%20%20%3Cdiv%20class%3D%22folium-map%22%20id%3D%22map_dae31c382857486cb8d0965feb758ba9%22%20%3E%3C/div%3E%0A%3C/body%3E%0A%3Cscript%3E%20%20%20%20%0A%20%20%20%20%0A%20%20%20%20%0A%20%20%20%20%20%20%20%20var%20bounds%20%3D%20null%3B%0A%20%20%20%20%0A%0A%20%20%20%20var%20map_dae31c382857486cb8d0965feb758ba9%20%3D%20L.map%28%0A%20%20%20%20%20%20%20%20%27map_dae31c382857486cb8d0965feb758ba9%27%2C%20%7B%0A%20%20%20%20%20%20%20%20center%3A%20%5B52.379188537597656%2C%204.899431228637695%5D%2C%0A%20%20%20%20%20%20%20%20zoom%3A%208%2C%0A%20%20%20%20%20%20%20%20maxBounds%3A%20bounds%2C%0A%20%20%20%20%20%20%20%20layers%3A%20%5B%5D%2C%0A%20%20%20%20%20%20%20%20worldCopyJump%3A%20false%2C%0A%20%20%20%20%20%20%20%20crs%3A%20L.CRS.EPSG3857%2C%0A%20%20%20%20%20%20%20%20zoomControl%3A%20true%2C%0A%20%20%20%20%20%20%20%20%7D%29%3B%0AL.control.scale%28%29.addTo%28map_dae31c382857486cb8d0965feb758ba9%29%3B%0A%0A%20%20%20%20%0A%20%20%20%20var%20tile_layer_9595d8d132064c7bb3db4481e68db4cb%20%3D%20L.tileLayer%28%0A%20%20%20%20%20%20%20%20%27https%3A//%7Bs%7D.tile.openstreetmap.org/%7Bz%7D/%7Bx%7D/%7By%7D.png%27%2C%0A%20%20%20%20%20%20%20%20%7B%0A%20%20%20%20%20%20%20%20%22attribution%22%3A%20null%2C%0A%20%20%20%20%20%20%20%20%22detectRetina%22%3A%20false%2C%0A%20%20%20%20%20%20%20%20%22maxNativeZoom%22%3A%2018%2C%0A%20%20%20%20%20%20%20%20%22maxZoom%22%3A%2018%2C%0A%20%20%20%20%20%20%20%20%22minZoom%22%3A%200%2C%0A%20%20%20%20%20%20%20%20%22noWrap%22%3A%20false%2C%0A%20%20%20%20%20%20%20%20%22opacity%22%3A%201%2C%0A%20%20%20%20%20%20%20%20%22subdomains%22%3A%20%22abc%22%2C%0A%20%20%20%20%20%20%20%20%22tms%22%3A%20false%0A%7D%29.addTo%28map_dae31c382857486cb8d0965feb758ba9%29%3B%0A%20%20%20%20%0A%20%20%20%20%20%20%20%20var%20marker_5658a4ee46a94875846e1591bfbc0fcf%20%3D%20L.marker%28%0A%20%20%20%20%20%20%20%20%20%20%20%20%5B52.379188537597656%2C%204.899431228637695%5D%2C%0A%20%20%20%20%20%20%20%20%20%20%20%20%7B%0A%20%20%20%20%20%20%20%20%20%20%20%20%20%20%20%20icon%3A%20new%20L.Icon.Default%28%29%2C%0A%20%20%20%20%20%20%20%20%20%20%20%20%20%20%20%20%7D%0A%20%20%20%20%20%20%20%20%20%20%20%20%29.addTo%28map_dae31c382857486cb8d0965feb758ba9%29%3B%0A%20%20%20%20%20%20%20%20%0A%20%20%20%20%0A%20%20%20%20%20%20%20%20%20%20%20%20var%20popup_fc2275d541db445586b2c606f9ce1f72%20%3D%20L.popup%28%7BmaxWidth%3A%20%27100%25%27%0A%20%20%20%20%20%20%20%20%20%20%20%20%0A%20%20%20%20%20%20%20%20%20%20%20%20%7D%29%3B%0A%0A%20%20%20%20%20%20%20%20%20%20%20%20%0A%20%20%20%20%20%20%20%20%20%20%20%20%20%20%20%20var%20html_00200e5970fe47088d9770a47e357d5f%20%3D%20%24%28%60%3Cdiv%20id%3D%22html_00200e5970fe47088d9770a47e357d5f%22%20style%3D%22width%3A%20100.0%25%3B%20height%3A%20100.0%25%3B%22%3EAmsterdam%3C/div%3E%60%29%5B0%5D%3B%0A%20%20%20%20%20%20%20%20%20%20%20%20%20%20%20%20popup_fc2275d541db445586b2c606f9ce1f72.setContent%28html_00200e5970fe47088d9770a47e357d5f%29%3B%0A%20%20%20%20%20%20%20%20%20%20%20%20%0A%0A%20%20%20%20%20%20%20%20%20%20%20%20marker_5658a4ee46a94875846e1591bfbc0fcf.bindPopup%28popup_fc2275d541db445586b2c606f9ce1f72%29%0A%20%20%20%20%20%20%20%20%20%20%20%20%3B%0A%0A%20%20%20%20%20%20%20%20%20%20%20%20%0A%20%20%20%20%20%20%20%20%0A%20%20%20%20%0A%20%20%20%20%20%20%20%20var%20marker_affaaffceac2442f93ca3a2195cd7f59%20%3D%20L.marker%28%0A%20%20%20%20%20%20%20%20%20%20%20%20%5B52.09287643432617%2C%205.104479789733887%5D%2C%0A%20%20%20%20%20%20%20%20%20%20%20%20%7B%0A%20%20%20%20%20%20%20%20%20%20%20%20%20%20%20%20icon%3A%20new%20L.Icon.Default%28%29%2C%0A%20%20%20%20%20%20%20%20%20%20%20%20%20%20%20%20%7D%0A%20%20%20%20%20%20%20%20%20%20%20%20%29.addTo%28map_dae31c382857486cb8d0965feb758ba9%29%3B%0A%20%20%20%20%20%20%20%20%0A%20%20%20%20%0A%20%20%20%20%20%20%20%20%20%20%20%20var%20popup_7fa539ed62414b85b4ed269c1d8a5369%20%3D%20L.popup%28%7BmaxWidth%3A%20%27100%25%27%0A%20%20%20%20%20%20%20%20%20%20%20%20%0A%20%20%20%20%20%20%20%20%20%20%20%20%7D%29%3B%0A%0A%20%20%20%20%20%20%20%20%20%20%20%20%0A%20%20%20%20%20%20%20%20%20%20%20%20%20%20%20%20var%20html_e1b4393b8a3a43a8a5ff452d2cfa3362%20%3D%20%24%28%60%3Cdiv%20id%3D%22html_e1b4393b8a3a43a8a5ff452d2cfa3362%22%20style%3D%22width%3A%20100.0%25%3B%20height%3A%20100.0%25%3B%22%3EUtrecht%3C/div%3E%60%29%5B0%5D%3B%0A%20%20%20%20%20%20%20%20%20%20%20%20%20%20%20%20popup_7fa539ed62414b85b4ed269c1d8a5369.setContent%28html_e1b4393b8a3a43a8a5ff452d2cfa3362%29%3B%0A%20%20%20%20%20%20%20%20%20%20%20%20%0A%0A%20%20%20%20%20%20%20%20%20%20%20%20marker_affaaffceac2442f93ca3a2195cd7f59.bindPopup%28popup_7fa539ed62414b85b4ed269c1d8a5369%29%0A%20%20%20%20%20%20%20%20%20%20%20%20%3B%0A%0A%20%20%20%20%20%20%20%20%20%20%20%20%0A%20%20%20%20%20%20%20%20%0A%20%20%20%20%0A%20%20%20%20%20%20%20%20var%20marker_6fd838cebe864cf6a16fa283c032c39d%20%3D%20L.marker%28%0A%20%20%20%20%20%20%20%20%20%20%20%20%5B52.07866287231445%2C%204.288787841796875%5D%2C%0A%20%20%20%20%20%20%20%20%20%20%20%20%7B%0A%20%20%20%20%20%20%20%20%20%20%20%20%20%20%20%20icon%3A%20new%20L.Icon.Default%28%29%2C%0A%20%20%20%20%20%20%20%20%20%20%20%20%20%20%20%20%7D%0A%20%20%20%20%20%20%20%20%20%20%20%20%29.addTo%28map_dae31c382857486cb8d0965feb758ba9%29%3B%0A%20%20%20%20%20%20%20%20%0A%20%20%20%20%0A%20%20%20%20%20%20%20%20%20%20%20%20var%20popup_5d733173536d433a8de94f16c9d30261%20%3D%20L.popup%28%7BmaxWidth%3A%20%27100%25%27%0A%20%20%20%20%20%20%20%20%20%20%20%20%0A%20%20%20%20%20%20%20%20%20%20%20%20%7D%29%3B%0A%0A%20%20%20%20%20%20%20%20%20%20%20%20%0A%20%20%20%20%20%20%20%20%20%20%20%20%20%20%20%20var%20html_30b2b17a9a9c48a2ac9c5bb5f6302e38%20%3D%20%24%28%60%3Cdiv%20id%3D%22html_30b2b17a9a9c48a2ac9c5bb5f6302e38%22%20style%3D%22width%3A%20100.0%25%3B%20height%3A%20100.0%25%3B%22%3EDen%20Haag%3C/div%3E%60%29%5B0%5D%3B%0A%20%20%20%20%20%20%20%20%20%20%20%20%20%20%20%20popup_5d733173536d433a8de94f16c9d30261.setContent%28html_30b2b17a9a9c48a2ac9c5bb5f6302e38%29%3B%0A%20%20%20%20%20%20%20%20%20%20%20%20%0A%0A%20%20%20%20%20%20%20%20%20%20%20%20marker_6fd838cebe864cf6a16fa283c032c39d.bindPopup%28popup_5d733173536d433a8de94f16c9d30261%29%0A%20%20%20%20%20%20%20%20%20%20%20%20%3B%0A%0A%20%20%20%20%20%20%20%20%20%20%20%20%0A%20%20%20%20%20%20%20%20%0A%20%20%20%20%0A%20%20%20%20%20%20%20%20var%20marker_96409f7a62e0440ba7b578f39904cc95%20%3D%20L.marker%28%0A%20%20%20%20%20%20%20%20%20%20%20%20%5B53.612388610839844%2C%20-0.2221899926662445%5D%2C%0A%20%20%20%20%20%20%20%20%20%20%20%20%7B%0A%20%20%20%20%20%20%20%20%20%20%20%20%20%20%20%20icon%3A%20new%20L.Icon.Default%28%29%2C%0A%20%20%20%20%20%20%20%20%20%20%20%20%20%20%20%20%7D%0A%20%20%20%20%20%20%20%20%20%20%20%20%29.addTo%28map_dae31c382857486cb8d0965feb758ba9%29%3B%0A%20%20%20%20%20%20%20%20%0A%20%20%20%20%0A%20%20%20%20%20%20%20%20%20%20%20%20var%20popup_5063deeec1de4572839ee2112f50ca1d%20%3D%20L.popup%28%7BmaxWidth%3A%20%27100%25%27%0A%20%20%20%20%20%20%20%20%20%20%20%20%0A%20%20%20%20%20%20%20%20%20%20%20%20%7D%29%3B%0A%0A%20%20%20%20%20%20%20%20%20%20%20%20%0A%20%20%20%20%20%20%20%20%20%20%20%20%20%20%20%20var%20html_e74b7802036a474ebdb84e3791be8e66%20%3D%20%24%28%60%3Cdiv%20id%3D%22html_e74b7802036a474ebdb84e3791be8e66%22%20style%3D%22width%3A%20100.0%25%3B%20height%3A%20100.0%25%3B%22%3EImmingham%3C/div%3E%60%29%5B0%5D%3B%0A%20%20%20%20%20%20%20%20%20%20%20%20%20%20%20%20popup_5063deeec1de4572839ee2112f50ca1d.setContent%28html_e74b7802036a474ebdb84e3791be8e66%29%3B%0A%20%20%20%20%20%20%20%20%20%20%20%20%0A%0A%20%20%20%20%20%20%20%20%20%20%20%20marker_96409f7a62e0440ba7b578f39904cc95.bindPopup%28popup_5063deeec1de4572839ee2112f50ca1d%29%0A%20%20%20%20%20%20%20%20%20%20%20%20%3B%0A%0A%20%20%20%20%20%20%20%20%20%20%20%20%0A%20%20%20%20%20%20%20%20%0A%20%20%20%20%0A%20%20%20%20%20%20%20%20var%20marker_c94660b9c03d4258ab4efacbbf5c1d0d%20%3D%20L.marker%28%0A%20%20%20%20%20%20%20%20%20%20%20%20%5B53.522850036621094%2C%20-1.131160020828247%5D%2C%0A%20%20%20%20%20%20%20%20%20%20%20%20%7B%0A%20%20%20%20%20%20%20%20%20%20%20%20%20%20%20%20icon%3A%20new%20L.Icon.Default%28%29%2C%0A%20%20%20%20%20%20%20%20%20%20%20%20%20%20%20%20%7D%0A%20%20%20%20%20%20%20%20%20%20%20%20%29.addTo%28map_dae31c382857486cb8d0965feb758ba9%29%3B%0A%20%20%20%20%20%20%20%20%0A%20%20%20%20%0A%20%20%20%20%20%20%20%20%20%20%20%20var%20popup_aa096768a9654138ab87c7b3f9e656e8%20%3D%20L.popup%28%7BmaxWidth%3A%20%27100%25%27%0A%20%20%20%20%20%20%20%20%20%20%20%20%0A%20%20%20%20%20%20%20%20%20%20%20%20%7D%29%3B%0A%0A%20%20%20%20%20%20%20%20%20%20%20%20%0A%20%20%20%20%20%20%20%20%20%20%20%20%20%20%20%20var%20html_ce0db22e36344fa0a8b451a17f0f80ad%20%3D%20%24%28%60%3Cdiv%20id%3D%22html_ce0db22e36344fa0a8b451a17f0f80ad%22%20style%3D%22width%3A%20100.0%25%3B%20height%3A%20100.0%25%3B%22%3EDoncaster%3C/div%3E%60%29%5B0%5D%3B%0A%20%20%20%20%20%20%20%20%20%20%20%20%20%20%20%20popup_aa096768a9654138ab87c7b3f9e656e8.setContent%28html_ce0db22e36344fa0a8b451a17f0f80ad%29%3B%0A%20%20%20%20%20%20%20%20%20%20%20%20%0A%0A%20%20%20%20%20%20%20%20%20%20%20%20marker_c94660b9c03d4258ab4efacbbf5c1d0d.bindPopup%28popup_aa096768a9654138ab87c7b3f9e656e8%29%0A%20%20%20%20%20%20%20%20%20%20%20%20%3B%0A%0A%20%20%20%20%20%20%20%20%20%20%20%20%0A%20%20%20%20%20%20%20%20%0A%20%20%20%20%0A%20%20%20%20%20%20%20%20var%20marker_a97b2e7f29454682bf99e29d0c09a6f7%20%3D%20L.marker%28%0A%20%20%20%20%20%20%20%20%20%20%20%20%5B51.977500915527344%2C%204.13332986831665%5D%2C%0A%20%20%20%20%20%20%20%20%20%20%20%20%7B%0A%20%20%20%20%20%20%20%20%20%20%20%20%20%20%20%20icon%3A%20new%20L.Icon.Default%28%29%2C%0A%20%20%20%20%20%20%20%20%20%20%20%20%20%20%20%20%7D%0A%20%20%20%20%20%20%20%20%20%20%20%20%29.addTo%28map_dae31c382857486cb8d0965feb758ba9%29%3B%0A%20%20%20%20%20%20%20%20%0A%20%20%20%20%0A%20%20%20%20%20%20%20%20%20%20%20%20var%20popup_d3c62fd134ac41ed975da64a560ecb5f%20%3D%20L.popup%28%7BmaxWidth%3A%20%27100%25%27%0A%20%20%20%20%20%20%20%20%20%20%20%20%0A%20%20%20%20%20%20%20%20%20%20%20%20%7D%29%3B%0A%0A%20%20%20%20%20%20%20%20%20%20%20%20%0A%20%20%20%20%20%20%20%20%20%20%20%20%20%20%20%20var%20html_fa5e6d76acab4470984022ee3ab0454e%20%3D%20%24%28%60%3Cdiv%20id%3D%22html_fa5e6d76acab4470984022ee3ab0454e%22%20style%3D%22width%3A%20100.0%25%3B%20height%3A%20100.0%25%3B%22%3EHoek%20van%20Holland%3C/div%3E%60%29%5B0%5D%3B%0A%20%20%20%20%20%20%20%20%20%20%20%20%20%20%20%20popup_d3c62fd134ac41ed975da64a560ecb5f.setContent%28html_fa5e6d76acab4470984022ee3ab0454e%29%3B%0A%20%20%20%20%20%20%20%20%20%20%20%20%0A%0A%20%20%20%20%20%20%20%20%20%20%20%20marker_a97b2e7f29454682bf99e29d0c09a6f7.bindPopup%28popup_d3c62fd134ac41ed975da64a560ecb5f%29%0A%20%20%20%20%20%20%20%20%20%20%20%20%3B%0A%0A%20%20%20%20%20%20%20%20%20%20%20%20%0A%20%20%20%20%20%20%20%20%0A%20%20%20%20%0A%20%20%20%20%20%20%20%20var%20marker_a1aa6a025cd34e94ae27000870f0c8c5%20%3D%20L.marker%28%0A%20%20%20%20%20%20%20%20%20%20%20%20%5B51.963748931884766%2C%201.351099967956543%5D%2C%0A%20%20%20%20%20%20%20%20%20%20%20%20%7B%0A%20%20%20%20%20%20%20%20%20%20%20%20%20%20%20%20icon%3A%20new%20L.Icon.Default%28%29%2C%0A%20%20%20%20%20%20%20%20%20%20%20%20%20%20%20%20%7D%0A%20%20%20%20%20%20%20%20%20%20%20%20%29.addTo%28map_dae31c382857486cb8d0965feb758ba9%29%3B%0A%20%20%20%20%20%20%20%20%0A%20%20%20%20%0A%20%20%20%20%20%20%20%20%20%20%20%20var%20popup_02c179ec8a724e89b7a9c8135dca6773%20%3D%20L.popup%28%7BmaxWidth%3A%20%27100%25%27%0A%20%20%20%20%20%20%20%20%20%20%20%20%0A%20%20%20%20%20%20%20%20%20%20%20%20%7D%29%3B%0A%0A%20%20%20%20%20%20%20%20%20%20%20%20%0A%20%20%20%20%20%20%20%20%20%20%20%20%20%20%20%20var%20html_035c65bbbd1f4d00acf2227a5614c3ab%20%3D%20%24%28%60%3Cdiv%20id%3D%22html_035c65bbbd1f4d00acf2227a5614c3ab%22%20style%3D%22width%3A%20100.0%25%3B%20height%3A%20100.0%25%3B%22%3EFelixstowe%3C/div%3E%60%29%5B0%5D%3B%0A%20%20%20%20%20%20%20%20%20%20%20%20%20%20%20%20popup_02c179ec8a724e89b7a9c8135dca6773.setContent%28html_035c65bbbd1f4d00acf2227a5614c3ab%29%3B%0A%20%20%20%20%20%20%20%20%20%20%20%20%0A%0A%20%20%20%20%20%20%20%20%20%20%20%20marker_a1aa6a025cd34e94ae27000870f0c8c5.bindPopup%28popup_02c179ec8a724e89b7a9c8135dca6773%29%0A%20%20%20%20%20%20%20%20%20%20%20%20%3B%0A%0A%20%20%20%20%20%20%20%20%20%20%20%20%0A%20%20%20%20%20%20%20%20%0A%20%20%20%20%0A%20%20%20%20%20%20%20%20var%20marker_49b050f437154edba32bd6712ad7e8d1%20%3D%20L.marker%28%0A%20%20%20%20%20%20%20%20%20%20%20%20%5B52.05916976928711%2C%201.1554499864578247%5D%2C%0A%20%20%20%20%20%20%20%20%20%20%20%20%7B%0A%20%20%20%20%20%20%20%20%20%20%20%20%20%20%20%20icon%3A%20new%20L.Icon.Default%28%29%2C%0A%20%20%20%20%20%20%20%20%20%20%20%20%20%20%20%20%7D%0A%20%20%20%20%20%20%20%20%20%20%20%20%29.addTo%28map_dae31c382857486cb8d0965feb758ba9%29%3B%0A%20%20%20%20%20%20%20%20%0A%20%20%20%20%0A%20%20%20%20%20%20%20%20%20%20%20%20var%20popup_018d99c0e64d4fd4b05d84f4775af506%20%3D%20L.popup%28%7BmaxWidth%3A%20%27100%25%27%0A%20%20%20%20%20%20%20%20%20%20%20%20%0A%20%20%20%20%20%20%20%20%20%20%20%20%7D%29%3B%0A%0A%20%20%20%20%20%20%20%20%20%20%20%20%0A%20%20%20%20%20%20%20%20%20%20%20%20%20%20%20%20var%20html_b30b7e35584641e89f8be824d09d66ed%20%3D%20%24%28%60%3Cdiv%20id%3D%22html_b30b7e35584641e89f8be824d09d66ed%22%20style%3D%22width%3A%20100.0%25%3B%20height%3A%20100.0%25%3B%22%3EIpswich%3C/div%3E%60%29%5B0%5D%3B%0A%20%20%20%20%20%20%20%20%20%20%20%20%20%20%20%20popup_018d99c0e64d4fd4b05d84f4775af506.setContent%28html_b30b7e35584641e89f8be824d09d66ed%29%3B%0A%20%20%20%20%20%20%20%20%20%20%20%20%0A%0A%20%20%20%20%20%20%20%20%20%20%20%20marker_49b050f437154edba32bd6712ad7e8d1.bindPopup%28popup_018d99c0e64d4fd4b05d84f4775af506%29%0A%20%20%20%20%20%20%20%20%20%20%20%20%3B%0A%0A%20%20%20%20%20%20%20%20%20%20%20%20%0A%20%20%20%20%20%20%20%20%0A%20%20%20%20%0A%20%20%20%20%20%20%20%20var%20marker_6cc1943d29144597bfb49ca357fc787e%20%3D%20L.marker%28%0A%20%20%20%20%20%20%20%20%20%20%20%20%5B51.88920974731445%2C%200.9042099714279175%5D%2C%0A%20%20%20%20%20%20%20%20%20%20%20%20%7B%0A%20%20%20%20%20%20%20%20%20%20%20%20%20%20%20%20icon%3A%20new%20L.Icon.Default%28%29%2C%0A%20%20%20%20%20%20%20%20%20%20%20%20%20%20%20%20%7D%0A%20%20%20%20%20%20%20%20%20%20%20%20%29.addTo%28map_dae31c382857486cb8d0965feb758ba9%29%3B%0A%20%20%20%20%20%20%20%20%0A%20%20%20%20%0A%20%20%20%20%20%20%20%20%20%20%20%20var%20popup_fc358b59d9524dfaa79059231bcdb83f%20%3D%20L.popup%28%7BmaxWidth%3A%20%27100%25%27%0A%20%20%20%20%20%20%20%20%20%20%20%20%0A%20%20%20%20%20%20%20%20%20%20%20%20%7D%29%3B%0A%0A%20%20%20%20%20%20%20%20%20%20%20%20%0A%20%20%20%20%20%20%20%20%20%20%20%20%20%20%20%20var%20html_ae658d8f200742348e5a5d5ff5440999%20%3D%20%24%28%60%3Cdiv%20id%3D%22html_ae658d8f200742348e5a5d5ff5440999%22%20style%3D%22width%3A%20100.0%25%3B%20height%3A%20100.0%25%3B%22%3EColchester%3C/div%3E%60%29%5B0%5D%3B%0A%20%20%20%20%20%20%20%20%20%20%20%20%20%20%20%20popup_fc358b59d9524dfaa79059231bcdb83f.setContent%28html_ae658d8f200742348e5a5d5ff5440999%29%3B%0A%20%20%20%20%20%20%20%20%20%20%20%20%0A%0A%20%20%20%20%20%20%20%20%20%20%20%20marker_6cc1943d29144597bfb49ca357fc787e.bindPopup%28popup_fc358b59d9524dfaa79059231bcdb83f%29%0A%20%20%20%20%20%20%20%20%20%20%20%20%3B%0A%0A%20%20%20%20%20%20%20%20%20%20%20%20%0A%20%20%20%20%20%20%20%20%0A%20%20%20%20%0A%20%20%20%20%20%20%20%20var%20marker_afecabbf57e94770afdf1983c62f33e4%20%3D%20L.marker%28%0A%20%20%20%20%20%20%20%20%20%20%20%20%5B51.509864807128906%2C%20-0.11809200048446655%5D%2C%0A%20%20%20%20%20%20%20%20%20%20%20%20%7B%0A%20%20%20%20%20%20%20%20%20%20%20%20%20%20%20%20icon%3A%20new%20L.Icon.Default%28%29%2C%0A%20%20%20%20%20%20%20%20%20%20%20%20%20%20%20%20%7D%0A%20%20%20%20%20%20%20%20%20%20%20%20%29.addTo%28map_dae31c382857486cb8d0965feb758ba9%29%3B%0A%20%20%20%20%20%20%20%20%0A%20%20%20%20%0A%20%20%20%20%20%20%20%20%20%20%20%20var%20popup_83f2fc1e16d54c92a0e65972dec00937%20%3D%20L.popup%28%7BmaxWidth%3A%20%27100%25%27%0A%20%20%20%20%20%20%20%20%20%20%20%20%0A%20%20%20%20%20%20%20%20%20%20%20%20%7D%29%3B%0A%0A%20%20%20%20%20%20%20%20%20%20%20%20%0A%20%20%20%20%20%20%20%20%20%20%20%20%20%20%20%20var%20html_7704f458bac04518a8a423c9ec717ea9%20%3D%20%24%28%60%3Cdiv%20id%3D%22html_7704f458bac04518a8a423c9ec717ea9%22%20style%3D%22width%3A%20100.0%25%3B%20height%3A%20100.0%25%3B%22%3ELondon%3C/div%3E%60%29%5B0%5D%3B%0A%20%20%20%20%20%20%20%20%20%20%20%20%20%20%20%20popup_83f2fc1e16d54c92a0e65972dec00937.setContent%28html_7704f458bac04518a8a423c9ec717ea9%29%3B%0A%20%20%20%20%20%20%20%20%20%20%20%20%0A%0A%20%20%20%20%20%20%20%20%20%20%20%20marker_afecabbf57e94770afdf1983c62f33e4.bindPopup%28popup_83f2fc1e16d54c92a0e65972dec00937%29%0A%20%20%20%20%20%20%20%20%20%20%20%20%3B%0A%0A%20%20%20%20%20%20%20%20%20%20%20%20%0A%20%20%20%20%20%20%20%20%0A%20%20%20%20%0A%20%20%20%20%20%20%20%20var%20marker_8188361f43924aedb43e18fd4a8bcc43%20%3D%20L.marker%28%0A%20%20%20%20%20%20%20%20%20%20%20%20%5B51.92250061035156%2C%204.479169845581055%5D%2C%0A%20%20%20%20%20%20%20%20%20%20%20%20%7B%0A%20%20%20%20%20%20%20%20%20%20%20%20%20%20%20%20icon%3A%20new%20L.Icon.Default%28%29%2C%0A%20%20%20%20%20%20%20%20%20%20%20%20%20%20%20%20%7D%0A%20%20%20%20%20%20%20%20%20%20%20%20%29.addTo%28map_dae31c382857486cb8d0965feb758ba9%29%3B%0A%20%20%20%20%20%20%20%20%0A%20%20%20%20%0A%20%20%20%20%20%20%20%20%20%20%20%20var%20popup_68bb74552884467fbab3cc151befb136%20%3D%20L.popup%28%7BmaxWidth%3A%20%27100%25%27%0A%20%20%20%20%20%20%20%20%20%20%20%20%0A%20%20%20%20%20%20%20%20%20%20%20%20%7D%29%3B%0A%0A%20%20%20%20%20%20%20%20%20%20%20%20%0A%20%20%20%20%20%20%20%20%20%20%20%20%20%20%20%20var%20html_d9f66e7f4bf3475496c50e836d04ef94%20%3D%20%24%28%60%3Cdiv%20id%3D%22html_d9f66e7f4bf3475496c50e836d04ef94%22%20style%3D%22width%3A%20100.0%25%3B%20height%3A%20100.0%25%3B%22%3ERotterdam%3C/div%3E%60%29%5B0%5D%3B%0A%20%20%20%20%20%20%20%20%20%20%20%20%20%20%20%20popup_68bb74552884467fbab3cc151befb136.setContent%28html_d9f66e7f4bf3475496c50e836d04ef94%29%3B%0A%20%20%20%20%20%20%20%20%20%20%20%20%0A%0A%20%20%20%20%20%20%20%20%20%20%20%20marker_8188361f43924aedb43e18fd4a8bcc43.bindPopup%28popup_68bb74552884467fbab3cc151befb136%29%0A%20%20%20%20%20%20%20%20%20%20%20%20%3B%0A%0A%20%20%20%20%20%20%20%20%20%20%20%20%0A%20%20%20%20%20%20%20%20%0A%20%20%20%20%0A%20%20%20%20%20%20%20%20var%20marker_5db24c698e8b4ccfb0228f09e93f83b3%20%3D%20L.marker%28%0A%20%20%20%20%20%20%20%20%20%20%20%20%5B52.01667022705078%2C%204.708330154418945%5D%2C%0A%20%20%20%20%20%20%20%20%20%20%20%20%7B%0A%20%20%20%20%20%20%20%20%20%20%20%20%20%20%20%20icon%3A%20new%20L.Icon.Default%28%29%2C%0A%20%20%20%20%20%20%20%20%20%20%20%20%20%20%20%20%7D%0A%20%20%20%20%20%20%20%20%20%20%20%20%29.addTo%28map_dae31c382857486cb8d0965feb758ba9%29%3B%0A%20%20%20%20%20%20%20%20%0A%20%20%20%20%0A%20%20%20%20%20%20%20%20%20%20%20%20var%20popup_4c771183bbd24e1a8b0b47229287e81a%20%3D%20L.popup%28%7BmaxWidth%3A%20%27100%25%27%0A%20%20%20%20%20%20%20%20%20%20%20%20%0A%20%20%20%20%20%20%20%20%20%20%20%20%7D%29%3B%0A%0A%20%20%20%20%20%20%20%20%20%20%20%20%0A%20%20%20%20%20%20%20%20%20%20%20%20%20%20%20%20var%20html_644e771c4b524fb29bb2c1574acf1bd7%20%3D%20%24%28%60%3Cdiv%20id%3D%22html_644e771c4b524fb29bb2c1574acf1bd7%22%20style%3D%22width%3A%20100.0%25%3B%20height%3A%20100.0%25%3B%22%3EGouda%3C/div%3E%60%29%5B0%5D%3B%0A%20%20%20%20%20%20%20%20%20%20%20%20%20%20%20%20popup_4c771183bbd24e1a8b0b47229287e81a.setContent%28html_644e771c4b524fb29bb2c1574acf1bd7%29%3B%0A%20%20%20%20%20%20%20%20%20%20%20%20%0A%0A%20%20%20%20%20%20%20%20%20%20%20%20marker_5db24c698e8b4ccfb0228f09e93f83b3.bindPopup%28popup_4c771183bbd24e1a8b0b47229287e81a%29%0A%20%20%20%20%20%20%20%20%20%20%20%20%3B%0A%0A%20%20%20%20%20%20%20%20%20%20%20%20%0A%20%20%20%20%20%20%20%20%0A%20%20%20%20%0A%20%20%20%20%20%20%20%20%20%20%20%20%20%20%20%20var%20poly_line_eb710ef19001488c95ae5d58a20160d6%20%3D%20L.polyline%28%0A%20%20%20%20%20%20%20%20%20%20%20%20%20%20%20%20%20%20%20%20%5B%5B52.379188537597656%2C%204.899431228637695%5D%2C%20%5B52.07866287231445%2C%204.288787841796875%5D%2C%20%5B51.977500915527344%2C%204.13332986831665%5D%2C%20%5B51.963748931884766%2C%201.351099967956543%5D%2C%20%5B52.05916976928711%2C%201.1554499864578247%5D%2C%20%5B51.88920974731445%2C%200.9042099714279175%5D%5D%2C%0A%20%20%20%20%20%20%20%20%20%20%20%20%20%20%20%20%20%20%20%20%7B%0A%20%20%22bubblingMouseEvents%22%3A%20true%2C%0A%20%20%22color%22%3A%20%22%233388ff%22%2C%0A%20%20%22dashArray%22%3A%20null%2C%0A%20%20%22dashOffset%22%3A%20null%2C%0A%20%20%22fill%22%3A%20false%2C%0A%20%20%22fillColor%22%3A%20%22%233388ff%22%2C%0A%20%20%22fillOpacity%22%3A%200.2%2C%0A%20%20%22fillRule%22%3A%20%22evenodd%22%2C%0A%20%20%22lineCap%22%3A%20%22round%22%2C%0A%20%20%22lineJoin%22%3A%20%22round%22%2C%0A%20%20%22noClip%22%3A%20false%2C%0A%20%20%22opacity%22%3A%201.0%2C%0A%20%20%22smoothFactor%22%3A%201.0%2C%0A%20%20%22stroke%22%3A%20true%2C%0A%20%20%22weight%22%3A%203%0A%7D%0A%20%20%20%20%20%20%20%20%20%20%20%20%20%20%20%20%20%20%20%20%29%0A%20%20%20%20%20%20%20%20%20%20%20%20%20%20%20%20%20%20%20%20.addTo%28map_dae31c382857486cb8d0965feb758ba9%29%3B%0A%20%20%20%20%20%20%20%20%20%20%20%20%0A%20%20%20%20%0A%20%20%20%20%20%20%20%20%20%20%20%20%20%20%20%20var%20poly_line_fcda7e58e6dc47e18c9e5838a2371157%20%3D%20L.polyline%28%0A%20%20%20%20%20%20%20%20%20%20%20%20%20%20%20%20%20%20%20%20%5B%5B52.379188537597656%2C%204.899431228637695%5D%2C%20%5B52.07866287231445%2C%204.288787841796875%5D%2C%20%5B51.977500915527344%2C%204.13332986831665%5D%2C%20%5B51.963748931884766%2C%201.351099967956543%5D%2C%20%5B52.05916976928711%2C%201.1554499864578247%5D%2C%20%5B51.88920974731445%2C%200.9042099714279175%5D%5D%2C%0A%20%20%20%20%20%20%20%20%20%20%20%20%20%20%20%20%20%20%20%20%7B%0A%20%20%22bubblingMouseEvents%22%3A%20true%2C%0A%20%20%22color%22%3A%20%22red%22%2C%0A%20%20%22dashArray%22%3A%20null%2C%0A%20%20%22dashOffset%22%3A%20null%2C%0A%20%20%22fill%22%3A%20false%2C%0A%20%20%22fillColor%22%3A%20%22red%22%2C%0A%20%20%22fillOpacity%22%3A%200.2%2C%0A%20%20%22fillRule%22%3A%20%22evenodd%22%2C%0A%20%20%22lineCap%22%3A%20%22round%22%2C%0A%20%20%22lineJoin%22%3A%20%22round%22%2C%0A%20%20%22noClip%22%3A%20false%2C%0A%20%20%22opacity%22%3A%201.0%2C%0A%20%20%22smoothFactor%22%3A%201.0%2C%0A%20%20%22stroke%22%3A%20true%2C%0A%20%20%22weight%22%3A%203%0A%7D%0A%20%20%20%20%20%20%20%20%20%20%20%20%20%20%20%20%20%20%20%20%29%0A%20%20%20%20%20%20%20%20%20%20%20%20%20%20%20%20%20%20%20%20.addTo%28map_dae31c382857486cb8d0965feb758ba9%29%3B%0A%20%20%20%20%20%20%20%20%20%20%20%20%0A%3C/script%3E onload=\"this.contentDocument.open();this.contentDocument.write(    decodeURIComponent(this.getAttribute('data-html')));this.contentDocument.close();\" allowfullscreen webkitallowfullscreen mozallowfullscreen></iframe></div></div>"
      ],
      "text/plain": [
       "<folium.folium.Map at 0x7f4e09967450>"
      ]
     },
     "metadata": {},
     "execution_count": 141
    }
   ]
  },
  {
   "cell_type": "markdown",
   "metadata": {
    "id": "01D-kupZeU8M"
   },
   "source": [
    "# All Pairs Shortest Path with Apache Spark"
   ]
  },
  {
   "cell_type": "code",
   "metadata": {
    "colab": {
     "base_uri": "https://localhost:8080/"
    },
    "id": "OzpooQ2VfA5w",
    "outputId": "ed604fc6-5739-4739-82e3-860e21f69e78"
   },
   "source": [
    "result = g.shortestPaths([\"Colchester\", \"Immingham\", \"Hoek van Holland\"])\n",
    "result.sort([\"id\"]).select(\"id\", \"distances\").show(truncate=False)"
   ],
   "execution_count": null,
   "outputs": [
    {
     "output_type": "stream",
     "name": "stdout",
     "text": [
      "+----------------+--------------------------------------------------------+\n",
      "|id              |distances                                               |\n",
      "+----------------+--------------------------------------------------------+\n",
      "|Amsterdam       |[Immingham -> 1, Hoek van Holland -> 2, Colchester -> 4]|\n",
      "|Colchester      |[Hoek van Holland -> 3, Immingham -> 3, Colchester -> 0]|\n",
      "|Den Haag        |[Hoek van Holland -> 1, Immingham -> 2, Colchester -> 4]|\n",
      "|Doncaster       |[Hoek van Holland -> 4, Immingham -> 1, Colchester -> 2]|\n",
      "|Felixstowe      |[Immingham -> 4, Hoek van Holland -> 1, Colchester -> 2]|\n",
      "|Gouda           |[Hoek van Holland -> 2, Immingham -> 3, Colchester -> 5]|\n",
      "|Hoek van Holland|[Immingham -> 3, Hoek van Holland -> 0, Colchester -> 3]|\n",
      "|Immingham       |[Hoek van Holland -> 3, Immingham -> 0, Colchester -> 3]|\n",
      "|Ipswich         |[Immingham -> 4, Hoek van Holland -> 2, Colchester -> 1]|\n",
      "|London          |[Hoek van Holland -> 4, Immingham -> 2, Colchester -> 1]|\n",
      "|Rotterdam       |[Hoek van Holland -> 1, Immingham -> 3, Colchester -> 4]|\n",
      "|Utrecht         |[Immingham -> 2, Hoek van Holland -> 3, Colchester -> 5]|\n",
      "+----------------+--------------------------------------------------------+\n",
      "\n"
     ]
    }
   ]
  },
  {
   "cell_type": "markdown",
   "metadata": {
    "id": "nKzRUytPnO9c"
   },
   "source": [
    "# Single Source Shortest Path\n"
   ]
  },
  {
   "cell_type": "code",
   "metadata": {
    "id": "lP3xL9dinTgg"
   },
   "source": [
    "from graphframes.lib import AggregateMessages as AM\n",
    "from pyspark.sql import functions as F"
   ],
   "execution_count": null,
   "outputs": []
  },
  {
   "cell_type": "code",
   "metadata": {
    "id": "6LSEzisQnYK4"
   },
   "source": [
    "add_path_udf = F.udf(lambda path, id: path + [id], ArrayType(StringType()))"
   ],
   "execution_count": null,
   "outputs": []
  },
  {
   "cell_type": "code",
   "metadata": {
    "id": "mau3ShEdnZof"
   },
   "source": [
    "# // tag::sssp[]\n",
    "def sssp(g, origin, column_name=\"cost\"):\n",
    "    vertices = g.vertices \\\n",
    "        .withColumn(\"visited\", F.lit(False)) \\\n",
    "        .withColumn(\"distance\",\n",
    "            F.when(g.vertices[\"id\"] == origin, 0).otherwise(float(\"inf\"))) \\\n",
    "        .withColumn(\"path\", F.array())\n",
    "    cached_vertices = AM.getCachedDataFrame(vertices)\n",
    "    g2 = GraphFrame(cached_vertices, g.edges)\n",
    "\n",
    "    while g2.vertices.filter('visited == False').first():\n",
    "        current_node_id = g2.vertices.filter('visited == False').sort(\"distance\").first().id\n",
    "\n",
    "        msg_distance = AM.edge[column_name] + AM.src['distance']\n",
    "        msg_path = add_path_udf(AM.src[\"path\"], AM.src[\"id\"])\n",
    "        msg_for_dst = F.when(AM.src['id'] == current_node_id, F.struct(msg_distance, msg_path))\n",
    "        new_distances = g2.aggregateMessages(\n",
    "            F.min(AM.msg).alias(\"aggMess\"), sendToDst=msg_for_dst)\n",
    "\n",
    "        new_visited_col = F.when(\n",
    "            g2.vertices.visited | (g2.vertices.id == current_node_id), True).otherwise(False)\n",
    "        new_distance_col = F.when(new_distances[\"aggMess\"].isNotNull() &\n",
    "                                  (new_distances.aggMess[\"col1\"] < g2.vertices.distance),\n",
    "                                  new_distances.aggMess[\"col1\"]) \\\n",
    "                            .otherwise(g2.vertices.distance)\n",
    "        new_path_col = F.when(new_distances[\"aggMess\"].isNotNull() &\n",
    "                              (new_distances.aggMess[\"col1\"] < g2.vertices.distance),\n",
    "                              new_distances.aggMess[\"col2\"].cast(\"array<string>\")) \\\n",
    "                        .otherwise(g2.vertices.path)\n",
    "\n",
    "        new_vertices = g2.vertices.join(new_distances, on=\"id\", how=\"left_outer\") \\\n",
    "            .drop(new_distances[\"id\"]) \\\n",
    "            .withColumn(\"visited\", new_visited_col) \\\n",
    "            .withColumn(\"newDistance\", new_distance_col) \\\n",
    "            .withColumn(\"newPath\", new_path_col) \\\n",
    "            .drop(\"aggMess\", \"distance\", \"path\") \\\n",
    "            .withColumnRenamed('newDistance', 'distance') \\\n",
    "            .withColumnRenamed('newPath', 'path')\n",
    "        cached_new_vertices = AM.getCachedDataFrame(new_vertices)\n",
    "        g2 = GraphFrame(cached_new_vertices, g2.edges)\n",
    "\n",
    "    return g2.vertices \\\n",
    "                .withColumn(\"newPath\", add_path_udf(\"path\", \"id\")) \\\n",
    "                .drop(\"visited\", \"path\") \\\n",
    "                .withColumnRenamed(\"newPath\", \"path\")\n"
   ],
   "execution_count": null,
   "outputs": []
  },
  {
   "cell_type": "code",
   "metadata": {
    "id": "bl0Z26qLnkyN"
   },
   "source": [
    "via_udf = F.udf(lambda path: path[1:-1], ArrayType(StringType()))"
   ],
   "execution_count": null,
   "outputs": []
  },
  {
   "cell_type": "code",
   "metadata": {
    "colab": {
     "base_uri": "https://localhost:8080/"
    },
    "id": "iNv9Mwi-nntg",
    "outputId": "c48df4c0-6021-4fa7-8edb-e400a1a3e1bd"
   },
   "source": [
    "result = sssp(g, \"Amsterdam\", \"cost\")\n",
    "(result\n",
    ".withColumn(\"via\", via_udf(\"path\"))\n",
    ".select(\"id\", \"distance\", \"via\")\n",
    ".sort(\"distance\")\n",
    ".show(truncate=False))"
   ],
   "execution_count": null,
   "outputs": [
    {
     "output_type": "stream",
     "name": "stdout",
     "text": [
      "+----------------+--------+-------------------------------------------------------------+\n",
      "|id              |distance|via                                                          |\n",
      "+----------------+--------+-------------------------------------------------------------+\n",
      "|Amsterdam       |0.0     |[]                                                           |\n",
      "|Utrecht         |46.0    |[]                                                           |\n",
      "|Den Haag        |59.0    |[]                                                           |\n",
      "|Gouda           |81.0    |[Utrecht]                                                    |\n",
      "|Rotterdam       |85.0    |[Den Haag]                                                   |\n",
      "|Hoek van Holland|86.0    |[Den Haag]                                                   |\n",
      "|Felixstowe      |293.0   |[Den Haag, Hoek van Holland]                                 |\n",
      "|Ipswich         |315.0   |[Den Haag, Hoek van Holland, Felixstowe]                     |\n",
      "|Colchester      |347.0   |[Den Haag, Hoek van Holland, Felixstowe, Ipswich]            |\n",
      "|Immingham       |369.0   |[]                                                           |\n",
      "|Doncaster       |443.0   |[Immingham]                                                  |\n",
      "|London          |453.0   |[Den Haag, Hoek van Holland, Felixstowe, Ipswich, Colchester]|\n",
      "+----------------+--------+-------------------------------------------------------------+\n",
      "\n"
     ]
    }
   ]
  },
  {
   "cell_type": "markdown",
   "metadata": {
    "id": "2UuD9QvjpYEl"
   },
   "source": [
    "# Minimum Spanning Tree"
   ]
  },
  {
   "cell_type": "code",
   "metadata": {
    "id": "3XXfFEXlpa9V"
   },
   "source": [
    "# your challenge we left"
   ],
   "execution_count": null,
   "outputs": []
  },
  {
   "cell_type": "markdown",
   "metadata": {
    "id": "my24GRNUpbkX"
   },
   "source": [
    "# Random Walk"
   ]
  },
  {
   "cell_type": "code",
   "metadata": {
    "id": "5lIbuMLJpe0Z"
   },
   "source": [
    "# your challenge we left"
   ],
   "execution_count": null,
   "outputs": []
  },
  {
   "cell_type": "markdown",
   "metadata": {
    "id": "Oqyh4mH1m7ok"
   },
   "source": [
    "# Appendix: Timing and Profling\n",
    "%time: Time the execution of a single statement\n",
    "\n",
    "%timeit: Time repeated execution of a single statement for more accuracy\n",
    "\n",
    "%prun: Run code with the profiler\n",
    "\n",
    "%lprun: Run code with the line-by-line profiler\n",
    "\n",
    "%memit: Measure the memory use of a single statement\n",
    "\n",
    "%mprun: Run code with the line-by-line memory profile"
   ]
  }
 ]
}